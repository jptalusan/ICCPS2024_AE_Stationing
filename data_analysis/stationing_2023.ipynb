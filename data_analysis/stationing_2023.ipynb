{
 "cells": [
  {
   "cell_type": "markdown",
   "metadata": {},
   "source": [
    "# parsing results"
   ]
  },
  {
   "cell_type": "code",
   "execution_count": 36,
   "metadata": {},
   "outputs": [],
   "source": [
    "import pandas as pd"
   ]
  },
  {
   "cell_type": "code",
   "execution_count": 37,
   "metadata": {},
   "outputs": [],
   "source": [
    "results_dir = \"/home/jpt/git/mta_simulator_redo/data_analysis/results/stationing/results\"\n",
    "logs_dir = \"/home/jpt/git/mta_simulator_redo/data_analysis/results/stationing/logs\""
   ]
  },
  {
   "cell_type": "code",
   "execution_count": 38,
   "metadata": {},
   "outputs": [],
   "source": [
    "def find_line_no_of_string(file_path, search_string):\n",
    "    # Initialize a variable to store the line number\n",
    "    line_number = None\n",
    "\n",
    "    # Open the file and search for the string\n",
    "    with open(file_path, \"r\") as file:\n",
    "        lines = file.readlines()\n",
    "        for i, line in enumerate(lines, start=1):\n",
    "            if search_string in line:\n",
    "                line_number = i\n",
    "                break  # Exit the loop once the first matching line is found\n",
    "\n",
    "    if line_number is not None:\n",
    "        return line_number\n",
    "    return None"
   ]
  },
  {
   "cell_type": "code",
   "execution_count": 39,
   "metadata": {},
   "outputs": [],
   "source": [
    "import os\n",
    "\n",
    "bus_string = \"bus_id,dwell_time,agg_delay,service_time,total_served,service_kms,current_stop,status,type,total_deadsecs,starting_stop\"\n",
    "stop_string = \"stop_id,total_passenger_ons,total_passenger_offs,total_passenger_walk_away\"\n",
    "end_string = \"passenger waiting dict list\"\n",
    "\n",
    "\n",
    "# Function to recursively traverse directories and read files\n",
    "def traverse_directories(root_dir):\n",
    "    buses_df = []\n",
    "    stops_df = []\n",
    "    for root, dirs, files in os.walk(root_dir):\n",
    "        for file_name in files:\n",
    "            # Check if the file meets your criteria, e.g., has a specific extension\n",
    "            # if \"5MININTERVAL\" in root:\n",
    "            #     continue\n",
    "            if file_name.endswith(\".csv\"):\n",
    "                file_path = os.path.join(root, file_name)\n",
    "                with open(file_path, \"r\") as file:\n",
    "                    # Read the contents of the file\n",
    "                    file_contents = file.read()\n",
    "                # Process the file contents as needed\n",
    "                # print(f\"Reading file: {file_path}\")\n",
    "                # print(file_contents)\n",
    "                bus_line_no = find_line_no_of_string(file_path, bus_string)\n",
    "                stop_line_no = find_line_no_of_string(file_path, stop_string)\n",
    "                end_line = find_line_no_of_string(file_path, end_string)\n",
    "                if bus_line_no and stop_line_no and end_line:\n",
    "                    # print(bus_line_no, stop_line_no)\n",
    "\n",
    "                    # Initialize a list to store the lines between A and B\n",
    "                    lines_between_A_and_B = []\n",
    "\n",
    "                    # Read the file and capture the lines between A and B\n",
    "                    with open(file_path, \"r\") as file:\n",
    "                        lines = file.readlines()\n",
    "                        lines_between_A_and_B = lines[bus_line_no - 1 : stop_line_no - 1]\n",
    "\n",
    "                    # Define the output CSV file\n",
    "                    output_bus_csv_path = f\"{root}/bus.csv\"\n",
    "                    output_stop_csv_path = f\"{root}/stop.csv\"\n",
    "\n",
    "                    # Write the captured lines to a CSV file\n",
    "                    with open(output_bus_csv_path, \"w\") as csv_file:\n",
    "                        csv_file.writelines(lines_between_A_and_B)\n",
    "\n",
    "                    # Initialize a list to store the lines between B and C\n",
    "                    lines_between_B_and_C = []\n",
    "\n",
    "                    # Read the file and capture the lines between B and C\n",
    "                    with open(file_path, \"r\") as file:\n",
    "                        lines = file.readlines()\n",
    "                        lines_between_B_and_C = lines[stop_line_no - 1 : end_line - 1]\n",
    "\n",
    "                    # Write the captured lines to a CSV file\n",
    "                    with open(output_stop_csv_path, \"w\") as csv_file:\n",
    "                        csv_file.writelines(lines_between_B_and_C)\n",
    "\n",
    "                    bus_df = pd.read_csv(output_bus_csv_path)\n",
    "                    config = root.split(\"/\")[-1]\n",
    "                    bus_df[\"date\"] = config.split(\"_\")[0]\n",
    "                    if \"AGENCY\" in root:\n",
    "                        bus_df[\"method\"] = config.split(\"_\")[-1]\n",
    "                    elif \"SEARCH\" in root:\n",
    "                        bus_df[\"method\"] = \"SEARCH\"\n",
    "                    elif \"5MININTERVAL\" in root:\n",
    "                        bus_df[\"method\"] = \"MCTS_5\"\n",
    "                    else:\n",
    "                        bus_df[\"method\"] = config.split(\"_\")[11]\n",
    "                    bus_df[\"real_env\"] = \" \".join(config.split(\"_\")[5:7])\n",
    "                    bus_df[\"mcts_env\"] = \" \".join(config.split(\"_\")[7:9])\n",
    "                    bus_df[\"noise\"] = int(config.split(\"_\")[9])\n",
    "                    bus_df.to_csv(output_bus_csv_path)\n",
    "\n",
    "                    stop_df = pd.read_csv(output_stop_csv_path)\n",
    "                    stop_df[\"date\"] = config.split(\"_\")[0]\n",
    "                    if \"AGENCY\" in root:\n",
    "                        stop_df[\"method\"] = config.split(\"_\")[-1]\n",
    "                    elif \"SEARCH\" in root:\n",
    "                        stop_df[\"method\"] = \"SEARCH\"\n",
    "                    elif \"5MININTERVAL\" in root:\n",
    "                        stop_df[\"method\"] = \"MCTS_5\"\n",
    "                    else:\n",
    "                        stop_df[\"method\"] = config.split(\"_\")[11]\n",
    "                    stop_df[\"real_env\"] = \" \".join(config.split(\"_\")[5:7])\n",
    "                    stop_df[\"mcts_env\"] = \" \".join(config.split(\"_\")[7:9])\n",
    "                    stop_df[\"noise\"] = int(config.split(\"_\")[9])\n",
    "                    stop_df.to_csv(output_stop_csv_path)\n",
    "\n",
    "                    buses_df.append(bus_df)\n",
    "                    stops_df.append(stop_df)\n",
    "\n",
    "    bus_df = pd.concat(buses_df)\n",
    "    stop_df = pd.concat(stops_df)\n",
    "    return bus_df, stop_df\n",
    "\n",
    "\n",
    "# Call the function with your root directory\n",
    "bus_df, stop_df = traverse_directories(results_dir)"
   ]
  },
  {
   "cell_type": "code",
   "execution_count": 40,
   "metadata": {},
   "outputs": [
    {
     "data": {
      "text/html": [
       "<div>\n",
       "<style scoped>\n",
       "    .dataframe tbody tr th:only-of-type {\n",
       "        vertical-align: middle;\n",
       "    }\n",
       "\n",
       "    .dataframe tbody tr th {\n",
       "        vertical-align: top;\n",
       "    }\n",
       "\n",
       "    .dataframe thead th {\n",
       "        text-align: right;\n",
       "    }\n",
       "</style>\n",
       "<table border=\"1\" class=\"dataframe\">\n",
       "  <thead>\n",
       "    <tr style=\"text-align: right;\">\n",
       "      <th></th>\n",
       "      <th>bus_id</th>\n",
       "      <th>dwell_time</th>\n",
       "      <th>agg_delay</th>\n",
       "      <th>service_time</th>\n",
       "      <th>total_served</th>\n",
       "      <th>service_kms</th>\n",
       "      <th>current_stop</th>\n",
       "      <th>status</th>\n",
       "      <th>type</th>\n",
       "      <th>total_deadsecs</th>\n",
       "      <th>starting_stop</th>\n",
       "      <th>date</th>\n",
       "      <th>method</th>\n",
       "      <th>real_env</th>\n",
       "      <th>mcts_env</th>\n",
       "      <th>noise</th>\n",
       "    </tr>\n",
       "  </thead>\n",
       "  <tbody>\n",
       "    <tr>\n",
       "      <th>0</th>\n",
       "      <td>125</td>\n",
       "      <td>23995.9</td>\n",
       "      <td>2.10</td>\n",
       "      <td>58320.0</td>\n",
       "      <td>22.0</td>\n",
       "      <td>0.0</td>\n",
       "      <td>GXIRIVEF</td>\n",
       "      <td>1</td>\n",
       "      <td>BusType.REGULAR</td>\n",
       "      <td>0.0</td>\n",
       "      <td>MCC</td>\n",
       "      <td>20210130</td>\n",
       "      <td>MCTS_5</td>\n",
       "      <td>REAL WORLD</td>\n",
       "      <td>TEST WORLD</td>\n",
       "      <td>10</td>\n",
       "    </tr>\n",
       "    <tr>\n",
       "      <th>1</th>\n",
       "      <td>140</td>\n",
       "      <td>22346.2</td>\n",
       "      <td>0.80</td>\n",
       "      <td>53220.0</td>\n",
       "      <td>8.0</td>\n",
       "      <td>0.0</td>\n",
       "      <td>MCC</td>\n",
       "      <td>1</td>\n",
       "      <td>BusType.REGULAR</td>\n",
       "      <td>0.0</td>\n",
       "      <td>HICHICNN</td>\n",
       "      <td>20210130</td>\n",
       "      <td>MCTS_5</td>\n",
       "      <td>REAL WORLD</td>\n",
       "      <td>TEST WORLD</td>\n",
       "      <td>10</td>\n",
       "    </tr>\n",
       "    <tr>\n",
       "      <th>2</th>\n",
       "      <td>1803</td>\n",
       "      <td>16131.0</td>\n",
       "      <td>0.02</td>\n",
       "      <td>35880.0</td>\n",
       "      <td>10.0</td>\n",
       "      <td>0.0</td>\n",
       "      <td>WHICHASF</td>\n",
       "      <td>1</td>\n",
       "      <td>BusType.REGULAR</td>\n",
       "      <td>0.0</td>\n",
       "      <td>MCC</td>\n",
       "      <td>20210130</td>\n",
       "      <td>MCTS_5</td>\n",
       "      <td>REAL WORLD</td>\n",
       "      <td>TEST WORLD</td>\n",
       "      <td>10</td>\n",
       "    </tr>\n",
       "    <tr>\n",
       "      <th>3</th>\n",
       "      <td>1806</td>\n",
       "      <td>24911.8</td>\n",
       "      <td>0.05</td>\n",
       "      <td>56760.0</td>\n",
       "      <td>6.0</td>\n",
       "      <td>0.0</td>\n",
       "      <td>MCC</td>\n",
       "      <td>1</td>\n",
       "      <td>BusType.REGULAR</td>\n",
       "      <td>0.0</td>\n",
       "      <td>WHICHASF</td>\n",
       "      <td>20210130</td>\n",
       "      <td>MCTS_5</td>\n",
       "      <td>REAL WORLD</td>\n",
       "      <td>TEST WORLD</td>\n",
       "      <td>10</td>\n",
       "    </tr>\n",
       "    <tr>\n",
       "      <th>4</th>\n",
       "      <td>1809</td>\n",
       "      <td>23468.9</td>\n",
       "      <td>0.35</td>\n",
       "      <td>48960.0</td>\n",
       "      <td>13.0</td>\n",
       "      <td>0.0</td>\n",
       "      <td>EZECONWN</td>\n",
       "      <td>1</td>\n",
       "      <td>BusType.REGULAR</td>\n",
       "      <td>0.0</td>\n",
       "      <td>EZECONWN</td>\n",
       "      <td>20210130</td>\n",
       "      <td>MCTS_5</td>\n",
       "      <td>REAL WORLD</td>\n",
       "      <td>TEST WORLD</td>\n",
       "      <td>10</td>\n",
       "    </tr>\n",
       "    <tr>\n",
       "      <th>...</th>\n",
       "      <td>...</td>\n",
       "      <td>...</td>\n",
       "      <td>...</td>\n",
       "      <td>...</td>\n",
       "      <td>...</td>\n",
       "      <td>...</td>\n",
       "      <td>...</td>\n",
       "      <td>...</td>\n",
       "      <td>...</td>\n",
       "      <td>...</td>\n",
       "      <td>...</td>\n",
       "      <td>...</td>\n",
       "      <td>...</td>\n",
       "      <td>...</td>\n",
       "      <td>...</td>\n",
       "      <td>...</td>\n",
       "    </tr>\n",
       "    <tr>\n",
       "      <th>67</th>\n",
       "      <td>724</td>\n",
       "      <td>16130.1</td>\n",
       "      <td>76.51</td>\n",
       "      <td>57704.8</td>\n",
       "      <td>14.0</td>\n",
       "      <td>0.0</td>\n",
       "      <td>100OAKS</td>\n",
       "      <td>1</td>\n",
       "      <td>BusType.REGULAR</td>\n",
       "      <td>0.0</td>\n",
       "      <td>POWPOWNM</td>\n",
       "      <td>20210302</td>\n",
       "      <td>MCTS_5</td>\n",
       "      <td>REAL WORLD</td>\n",
       "      <td>TEST WORLD</td>\n",
       "      <td>5</td>\n",
       "    </tr>\n",
       "    <tr>\n",
       "      <th>68</th>\n",
       "      <td>725</td>\n",
       "      <td>2379.0</td>\n",
       "      <td>160.54</td>\n",
       "      <td>24349.4</td>\n",
       "      <td>26.0</td>\n",
       "      <td>0.0</td>\n",
       "      <td>19SSHESN</td>\n",
       "      <td>1</td>\n",
       "      <td>BusType.REGULAR</td>\n",
       "      <td>0.0</td>\n",
       "      <td>MCC</td>\n",
       "      <td>20210302</td>\n",
       "      <td>MCTS_5</td>\n",
       "      <td>REAL WORLD</td>\n",
       "      <td>TEST WORLD</td>\n",
       "      <td>5</td>\n",
       "    </tr>\n",
       "    <tr>\n",
       "      <th>69</th>\n",
       "      <td>730</td>\n",
       "      <td>16511.5</td>\n",
       "      <td>6.52</td>\n",
       "      <td>39240.0</td>\n",
       "      <td>14.0</td>\n",
       "      <td>0.0</td>\n",
       "      <td>33AJOHNM</td>\n",
       "      <td>1</td>\n",
       "      <td>BusType.REGULAR</td>\n",
       "      <td>0.0</td>\n",
       "      <td>LPSCI</td>\n",
       "      <td>20210302</td>\n",
       "      <td>MCTS_5</td>\n",
       "      <td>REAL WORLD</td>\n",
       "      <td>TEST WORLD</td>\n",
       "      <td>5</td>\n",
       "    </tr>\n",
       "    <tr>\n",
       "      <th>70</th>\n",
       "      <td>733</td>\n",
       "      <td>2953.2</td>\n",
       "      <td>151.95</td>\n",
       "      <td>28260.0</td>\n",
       "      <td>18.0</td>\n",
       "      <td>0.0</td>\n",
       "      <td>MCC</td>\n",
       "      <td>1</td>\n",
       "      <td>BusType.REGULAR</td>\n",
       "      <td>0.0</td>\n",
       "      <td>MCC</td>\n",
       "      <td>20210302</td>\n",
       "      <td>MCTS_5</td>\n",
       "      <td>REAL WORLD</td>\n",
       "      <td>TEST WORLD</td>\n",
       "      <td>5</td>\n",
       "    </tr>\n",
       "    <tr>\n",
       "      <th>71</th>\n",
       "      <td>735</td>\n",
       "      <td>11589.5</td>\n",
       "      <td>0.00</td>\n",
       "      <td>23249.0</td>\n",
       "      <td>5.0</td>\n",
       "      <td>0.0</td>\n",
       "      <td>NOLELYSN</td>\n",
       "      <td>0</td>\n",
       "      <td>BusType.REGULAR</td>\n",
       "      <td>0.0</td>\n",
       "      <td>NOLWELNN</td>\n",
       "      <td>20210302</td>\n",
       "      <td>MCTS_5</td>\n",
       "      <td>REAL WORLD</td>\n",
       "      <td>TEST WORLD</td>\n",
       "      <td>5</td>\n",
       "    </tr>\n",
       "  </tbody>\n",
       "</table>\n",
       "<p>1825 rows × 16 columns</p>\n",
       "</div>"
      ],
      "text/plain": [
       "    bus_id  dwell_time  agg_delay  service_time  total_served  service_kms  \\\n",
       "0      125     23995.9       2.10       58320.0          22.0          0.0   \n",
       "1      140     22346.2       0.80       53220.0           8.0          0.0   \n",
       "2     1803     16131.0       0.02       35880.0          10.0          0.0   \n",
       "3     1806     24911.8       0.05       56760.0           6.0          0.0   \n",
       "4     1809     23468.9       0.35       48960.0          13.0          0.0   \n",
       "..     ...         ...        ...           ...           ...          ...   \n",
       "67     724     16130.1      76.51       57704.8          14.0          0.0   \n",
       "68     725      2379.0     160.54       24349.4          26.0          0.0   \n",
       "69     730     16511.5       6.52       39240.0          14.0          0.0   \n",
       "70     733      2953.2     151.95       28260.0          18.0          0.0   \n",
       "71     735     11589.5       0.00       23249.0           5.0          0.0   \n",
       "\n",
       "   current_stop  status             type  total_deadsecs starting_stop  \\\n",
       "0      GXIRIVEF       1  BusType.REGULAR             0.0           MCC   \n",
       "1           MCC       1  BusType.REGULAR             0.0      HICHICNN   \n",
       "2      WHICHASF       1  BusType.REGULAR             0.0           MCC   \n",
       "3           MCC       1  BusType.REGULAR             0.0      WHICHASF   \n",
       "4      EZECONWN       1  BusType.REGULAR             0.0      EZECONWN   \n",
       "..          ...     ...              ...             ...           ...   \n",
       "67      100OAKS       1  BusType.REGULAR             0.0      POWPOWNM   \n",
       "68     19SSHESN       1  BusType.REGULAR             0.0           MCC   \n",
       "69     33AJOHNM       1  BusType.REGULAR             0.0         LPSCI   \n",
       "70          MCC       1  BusType.REGULAR             0.0           MCC   \n",
       "71     NOLELYSN       0  BusType.REGULAR             0.0      NOLWELNN   \n",
       "\n",
       "        date  method    real_env    mcts_env  noise  \n",
       "0   20210130  MCTS_5  REAL WORLD  TEST WORLD     10  \n",
       "1   20210130  MCTS_5  REAL WORLD  TEST WORLD     10  \n",
       "2   20210130  MCTS_5  REAL WORLD  TEST WORLD     10  \n",
       "3   20210130  MCTS_5  REAL WORLD  TEST WORLD     10  \n",
       "4   20210130  MCTS_5  REAL WORLD  TEST WORLD     10  \n",
       "..       ...     ...         ...         ...    ...  \n",
       "67  20210302  MCTS_5  REAL WORLD  TEST WORLD      5  \n",
       "68  20210302  MCTS_5  REAL WORLD  TEST WORLD      5  \n",
       "69  20210302  MCTS_5  REAL WORLD  TEST WORLD      5  \n",
       "70  20210302  MCTS_5  REAL WORLD  TEST WORLD      5  \n",
       "71  20210302  MCTS_5  REAL WORLD  TEST WORLD      5  \n",
       "\n",
       "[1825 rows x 16 columns]"
      ]
     },
     "execution_count": 40,
     "metadata": {},
     "output_type": "execute_result"
    }
   ],
   "source": [
    "bus_df.query(\"method == 'MCTS_5'\")"
   ]
  },
  {
   "cell_type": "code",
   "execution_count": 41,
   "metadata": {},
   "outputs": [
    {
     "data": {
      "text/plain": [
       "array(['MCTS', 'AGENCY', 'MCTS_5', 'SEARCH', 'BASELINE'], dtype=object)"
      ]
     },
     "execution_count": 41,
     "metadata": {},
     "output_type": "execute_result"
    }
   ],
   "source": [
    "stop_df.method.unique()"
   ]
  },
  {
   "cell_type": "code",
   "execution_count": 42,
   "metadata": {},
   "outputs": [
    {
     "data": {
      "text/html": [
       "<div>\n",
       "<style scoped>\n",
       "    .dataframe tbody tr th:only-of-type {\n",
       "        vertical-align: middle;\n",
       "    }\n",
       "\n",
       "    .dataframe tbody tr th {\n",
       "        vertical-align: top;\n",
       "    }\n",
       "\n",
       "    .dataframe thead th {\n",
       "        text-align: right;\n",
       "    }\n",
       "</style>\n",
       "<table border=\"1\" class=\"dataframe\">\n",
       "  <thead>\n",
       "    <tr style=\"text-align: right;\">\n",
       "      <th></th>\n",
       "      <th>service_kms</th>\n",
       "      <th>service_time</th>\n",
       "    </tr>\n",
       "    <tr>\n",
       "      <th>method</th>\n",
       "      <th></th>\n",
       "      <th></th>\n",
       "    </tr>\n",
       "  </thead>\n",
       "  <tbody>\n",
       "    <tr>\n",
       "      <th>AGENCY</th>\n",
       "      <td>103.38</td>\n",
       "      <td>155428.0</td>\n",
       "    </tr>\n",
       "    <tr>\n",
       "      <th>BASELINE</th>\n",
       "      <td>114.19</td>\n",
       "      <td>154613.1</td>\n",
       "    </tr>\n",
       "    <tr>\n",
       "      <th>MCTS</th>\n",
       "      <td>50.29</td>\n",
       "      <td>196176.7</td>\n",
       "    </tr>\n",
       "    <tr>\n",
       "      <th>SEARCH</th>\n",
       "      <td>101.64</td>\n",
       "      <td>155503.2</td>\n",
       "    </tr>\n",
       "  </tbody>\n",
       "</table>\n",
       "</div>"
      ],
      "text/plain": [
       "          service_kms  service_time\n",
       "method                             \n",
       "AGENCY         103.38      155428.0\n",
       "BASELINE       114.19      154613.1\n",
       "MCTS            50.29      196176.7\n",
       "SEARCH         101.64      155503.2"
      ]
     },
     "execution_count": 42,
     "metadata": {},
     "output_type": "execute_result"
    }
   ],
   "source": [
    "bus_df.query(\"date == '20210312' and noise == 0 and real_env == 'REAL WORLD' and mcts_env == 'TEST WORLD'\").groupby(\n",
    "    \"method\"\n",
    ").agg({\"total_served\": \"sum\"})\n",
    "bus_df.query(\n",
    "    \"date == '20210312' and noise == 0 and real_env == 'REAL WORLD' and mcts_env == 'TEST WORLD' and type == 'BusType.OVERLOAD'\"\n",
    ").groupby(\"method\").agg({\"service_kms\": \"sum\", \"service_time\": \"sum\"})"
   ]
  },
  {
   "cell_type": "code",
   "execution_count": 43,
   "metadata": {},
   "outputs": [],
   "source": [
    "grouped_stop_df = (\n",
    "    stop_df.groupby([\"date\", \"method\", \"real_env\", \"mcts_env\", \"noise\"])\n",
    "    .agg({\"total_passenger_ons\": \"sum\", \"total_passenger_offs\": \"sum\", \"total_passenger_walk_away\": \"sum\"})\n",
    "    .reset_index()\n",
    ")"
   ]
  },
  {
   "cell_type": "code",
   "execution_count": 44,
   "metadata": {},
   "outputs": [
    {
     "data": {
      "text/plain": [
       "['20210130',\n",
       " '20210202',\n",
       " '20210211',\n",
       " '20210302',\n",
       " '20210312',\n",
       " '20210401',\n",
       " '20210425',\n",
       " '20210606',\n",
       " '20210624',\n",
       " '20210725',\n",
       " '20210826',\n",
       " '20210829',\n",
       " '20210901',\n",
       " '20210928']"
      ]
     },
     "execution_count": 44,
     "metadata": {},
     "output_type": "execute_result"
    }
   ],
   "source": [
    "dates = grouped_stop_df.date.unique().tolist()\n",
    "dates"
   ]
  },
  {
   "cell_type": "code",
   "execution_count": 45,
   "metadata": {},
   "outputs": [
    {
     "data": {
      "text/html": [
       "<div>\n",
       "<style scoped>\n",
       "    .dataframe tbody tr th:only-of-type {\n",
       "        vertical-align: middle;\n",
       "    }\n",
       "\n",
       "    .dataframe tbody tr th {\n",
       "        vertical-align: top;\n",
       "    }\n",
       "\n",
       "    .dataframe thead th {\n",
       "        text-align: right;\n",
       "    }\n",
       "</style>\n",
       "<table border=\"1\" class=\"dataframe\">\n",
       "  <thead>\n",
       "    <tr style=\"text-align: right;\">\n",
       "      <th></th>\n",
       "      <th>date</th>\n",
       "      <th>method</th>\n",
       "      <th>real_env</th>\n",
       "      <th>mcts_env</th>\n",
       "      <th>noise</th>\n",
       "      <th>total_passenger_ons</th>\n",
       "      <th>total_passenger_offs</th>\n",
       "      <th>total_passenger_walk_away</th>\n",
       "    </tr>\n",
       "  </thead>\n",
       "  <tbody>\n",
       "    <tr>\n",
       "      <th>0</th>\n",
       "      <td>20210130</td>\n",
       "      <td>AGENCY</td>\n",
       "      <td>REAL WORLD</td>\n",
       "      <td>TEST WORLD</td>\n",
       "      <td>0</td>\n",
       "      <td>464.0</td>\n",
       "      <td>464.0</td>\n",
       "      <td>0.0</td>\n",
       "    </tr>\n",
       "    <tr>\n",
       "      <th>1</th>\n",
       "      <td>20210130</td>\n",
       "      <td>AGENCY</td>\n",
       "      <td>REAL WORLD</td>\n",
       "      <td>TEST WORLD</td>\n",
       "      <td>1</td>\n",
       "      <td>464.0</td>\n",
       "      <td>464.0</td>\n",
       "      <td>0.0</td>\n",
       "    </tr>\n",
       "    <tr>\n",
       "      <th>2</th>\n",
       "      <td>20210130</td>\n",
       "      <td>AGENCY</td>\n",
       "      <td>REAL WORLD</td>\n",
       "      <td>TEST WORLD</td>\n",
       "      <td>5</td>\n",
       "      <td>464.0</td>\n",
       "      <td>464.0</td>\n",
       "      <td>0.0</td>\n",
       "    </tr>\n",
       "    <tr>\n",
       "      <th>3</th>\n",
       "      <td>20210130</td>\n",
       "      <td>AGENCY</td>\n",
       "      <td>REAL WORLD</td>\n",
       "      <td>TEST WORLD</td>\n",
       "      <td>10</td>\n",
       "      <td>464.0</td>\n",
       "      <td>464.0</td>\n",
       "      <td>0.0</td>\n",
       "    </tr>\n",
       "    <tr>\n",
       "      <th>4</th>\n",
       "      <td>20210130</td>\n",
       "      <td>AGENCY</td>\n",
       "      <td>TEST WORLD</td>\n",
       "      <td>TEST WORLD</td>\n",
       "      <td>0</td>\n",
       "      <td>2492.0</td>\n",
       "      <td>2492.0</td>\n",
       "      <td>0.0</td>\n",
       "    </tr>\n",
       "    <tr>\n",
       "      <th>5</th>\n",
       "      <td>20210130</td>\n",
       "      <td>BASELINE</td>\n",
       "      <td>REAL WORLD</td>\n",
       "      <td>TEST WORLD</td>\n",
       "      <td>0</td>\n",
       "      <td>464.0</td>\n",
       "      <td>464.0</td>\n",
       "      <td>0.0</td>\n",
       "    </tr>\n",
       "    <tr>\n",
       "      <th>6</th>\n",
       "      <td>20210130</td>\n",
       "      <td>BASELINE</td>\n",
       "      <td>REAL WORLD</td>\n",
       "      <td>TEST WORLD</td>\n",
       "      <td>1</td>\n",
       "      <td>464.0</td>\n",
       "      <td>464.0</td>\n",
       "      <td>0.0</td>\n",
       "    </tr>\n",
       "    <tr>\n",
       "      <th>7</th>\n",
       "      <td>20210130</td>\n",
       "      <td>BASELINE</td>\n",
       "      <td>REAL WORLD</td>\n",
       "      <td>TEST WORLD</td>\n",
       "      <td>5</td>\n",
       "      <td>464.0</td>\n",
       "      <td>464.0</td>\n",
       "      <td>0.0</td>\n",
       "    </tr>\n",
       "    <tr>\n",
       "      <th>8</th>\n",
       "      <td>20210130</td>\n",
       "      <td>BASELINE</td>\n",
       "      <td>REAL WORLD</td>\n",
       "      <td>TEST WORLD</td>\n",
       "      <td>10</td>\n",
       "      <td>464.0</td>\n",
       "      <td>464.0</td>\n",
       "      <td>0.0</td>\n",
       "    </tr>\n",
       "    <tr>\n",
       "      <th>9</th>\n",
       "      <td>20210130</td>\n",
       "      <td>BASELINE</td>\n",
       "      <td>TEST WORLD</td>\n",
       "      <td>TEST WORLD</td>\n",
       "      <td>0</td>\n",
       "      <td>2492.0</td>\n",
       "      <td>2492.0</td>\n",
       "      <td>0.0</td>\n",
       "    </tr>\n",
       "    <tr>\n",
       "      <th>10</th>\n",
       "      <td>20210130</td>\n",
       "      <td>MCTS</td>\n",
       "      <td>REAL WORLD</td>\n",
       "      <td>TEST WORLD</td>\n",
       "      <td>0</td>\n",
       "      <td>464.0</td>\n",
       "      <td>464.0</td>\n",
       "      <td>0.0</td>\n",
       "    </tr>\n",
       "    <tr>\n",
       "      <th>11</th>\n",
       "      <td>20210130</td>\n",
       "      <td>MCTS</td>\n",
       "      <td>REAL WORLD</td>\n",
       "      <td>TEST WORLD</td>\n",
       "      <td>1</td>\n",
       "      <td>464.0</td>\n",
       "      <td>464.0</td>\n",
       "      <td>0.0</td>\n",
       "    </tr>\n",
       "    <tr>\n",
       "      <th>12</th>\n",
       "      <td>20210130</td>\n",
       "      <td>MCTS</td>\n",
       "      <td>REAL WORLD</td>\n",
       "      <td>TEST WORLD</td>\n",
       "      <td>5</td>\n",
       "      <td>464.0</td>\n",
       "      <td>464.0</td>\n",
       "      <td>0.0</td>\n",
       "    </tr>\n",
       "    <tr>\n",
       "      <th>13</th>\n",
       "      <td>20210130</td>\n",
       "      <td>MCTS</td>\n",
       "      <td>REAL WORLD</td>\n",
       "      <td>TEST WORLD</td>\n",
       "      <td>10</td>\n",
       "      <td>464.0</td>\n",
       "      <td>464.0</td>\n",
       "      <td>0.0</td>\n",
       "    </tr>\n",
       "    <tr>\n",
       "      <th>14</th>\n",
       "      <td>20210130</td>\n",
       "      <td>MCTS</td>\n",
       "      <td>TEST WORLD</td>\n",
       "      <td>TEST WORLD</td>\n",
       "      <td>0</td>\n",
       "      <td>2492.0</td>\n",
       "      <td>2492.0</td>\n",
       "      <td>0.0</td>\n",
       "    </tr>\n",
       "    <tr>\n",
       "      <th>15</th>\n",
       "      <td>20210130</td>\n",
       "      <td>MCTS_5</td>\n",
       "      <td>REAL WORLD</td>\n",
       "      <td>TEST WORLD</td>\n",
       "      <td>10</td>\n",
       "      <td>464.0</td>\n",
       "      <td>464.0</td>\n",
       "      <td>0.0</td>\n",
       "    </tr>\n",
       "    <tr>\n",
       "      <th>16</th>\n",
       "      <td>20210130</td>\n",
       "      <td>SEARCH</td>\n",
       "      <td>REAL WORLD</td>\n",
       "      <td>TEST WORLD</td>\n",
       "      <td>0</td>\n",
       "      <td>464.0</td>\n",
       "      <td>464.0</td>\n",
       "      <td>0.0</td>\n",
       "    </tr>\n",
       "    <tr>\n",
       "      <th>17</th>\n",
       "      <td>20210130</td>\n",
       "      <td>SEARCH</td>\n",
       "      <td>REAL WORLD</td>\n",
       "      <td>TEST WORLD</td>\n",
       "      <td>1</td>\n",
       "      <td>464.0</td>\n",
       "      <td>464.0</td>\n",
       "      <td>0.0</td>\n",
       "    </tr>\n",
       "    <tr>\n",
       "      <th>18</th>\n",
       "      <td>20210130</td>\n",
       "      <td>SEARCH</td>\n",
       "      <td>REAL WORLD</td>\n",
       "      <td>TEST WORLD</td>\n",
       "      <td>5</td>\n",
       "      <td>464.0</td>\n",
       "      <td>464.0</td>\n",
       "      <td>0.0</td>\n",
       "    </tr>\n",
       "    <tr>\n",
       "      <th>19</th>\n",
       "      <td>20210130</td>\n",
       "      <td>SEARCH</td>\n",
       "      <td>REAL WORLD</td>\n",
       "      <td>TEST WORLD</td>\n",
       "      <td>10</td>\n",
       "      <td>464.0</td>\n",
       "      <td>464.0</td>\n",
       "      <td>0.0</td>\n",
       "    </tr>\n",
       "    <tr>\n",
       "      <th>20</th>\n",
       "      <td>20210130</td>\n",
       "      <td>SEARCH</td>\n",
       "      <td>TEST WORLD</td>\n",
       "      <td>TEST WORLD</td>\n",
       "      <td>0</td>\n",
       "      <td>2492.0</td>\n",
       "      <td>2492.0</td>\n",
       "      <td>0.0</td>\n",
       "    </tr>\n",
       "  </tbody>\n",
       "</table>\n",
       "</div>"
      ],
      "text/plain": [
       "        date    method    real_env    mcts_env  noise  total_passenger_ons  \\\n",
       "0   20210130    AGENCY  REAL WORLD  TEST WORLD      0                464.0   \n",
       "1   20210130    AGENCY  REAL WORLD  TEST WORLD      1                464.0   \n",
       "2   20210130    AGENCY  REAL WORLD  TEST WORLD      5                464.0   \n",
       "3   20210130    AGENCY  REAL WORLD  TEST WORLD     10                464.0   \n",
       "4   20210130    AGENCY  TEST WORLD  TEST WORLD      0               2492.0   \n",
       "5   20210130  BASELINE  REAL WORLD  TEST WORLD      0                464.0   \n",
       "6   20210130  BASELINE  REAL WORLD  TEST WORLD      1                464.0   \n",
       "7   20210130  BASELINE  REAL WORLD  TEST WORLD      5                464.0   \n",
       "8   20210130  BASELINE  REAL WORLD  TEST WORLD     10                464.0   \n",
       "9   20210130  BASELINE  TEST WORLD  TEST WORLD      0               2492.0   \n",
       "10  20210130      MCTS  REAL WORLD  TEST WORLD      0                464.0   \n",
       "11  20210130      MCTS  REAL WORLD  TEST WORLD      1                464.0   \n",
       "12  20210130      MCTS  REAL WORLD  TEST WORLD      5                464.0   \n",
       "13  20210130      MCTS  REAL WORLD  TEST WORLD     10                464.0   \n",
       "14  20210130      MCTS  TEST WORLD  TEST WORLD      0               2492.0   \n",
       "15  20210130    MCTS_5  REAL WORLD  TEST WORLD     10                464.0   \n",
       "16  20210130    SEARCH  REAL WORLD  TEST WORLD      0                464.0   \n",
       "17  20210130    SEARCH  REAL WORLD  TEST WORLD      1                464.0   \n",
       "18  20210130    SEARCH  REAL WORLD  TEST WORLD      5                464.0   \n",
       "19  20210130    SEARCH  REAL WORLD  TEST WORLD     10                464.0   \n",
       "20  20210130    SEARCH  TEST WORLD  TEST WORLD      0               2492.0   \n",
       "\n",
       "    total_passenger_offs  total_passenger_walk_away  \n",
       "0                  464.0                        0.0  \n",
       "1                  464.0                        0.0  \n",
       "2                  464.0                        0.0  \n",
       "3                  464.0                        0.0  \n",
       "4                 2492.0                        0.0  \n",
       "5                  464.0                        0.0  \n",
       "6                  464.0                        0.0  \n",
       "7                  464.0                        0.0  \n",
       "8                  464.0                        0.0  \n",
       "9                 2492.0                        0.0  \n",
       "10                 464.0                        0.0  \n",
       "11                 464.0                        0.0  \n",
       "12                 464.0                        0.0  \n",
       "13                 464.0                        0.0  \n",
       "14                2492.0                        0.0  \n",
       "15                 464.0                        0.0  \n",
       "16                 464.0                        0.0  \n",
       "17                 464.0                        0.0  \n",
       "18                 464.0                        0.0  \n",
       "19                 464.0                        0.0  \n",
       "20                2492.0                        0.0  "
      ]
     },
     "execution_count": 45,
     "metadata": {},
     "output_type": "execute_result"
    }
   ],
   "source": [
    "date = \"20210130\"\n",
    "grouped_stop_df.query(\"date == @date\")"
   ]
  },
  {
   "cell_type": "code",
   "execution_count": 46,
   "metadata": {},
   "outputs": [
    {
     "data": {
      "text/html": [
       "<div>\n",
       "<style scoped>\n",
       "    .dataframe tbody tr th:only-of-type {\n",
       "        vertical-align: middle;\n",
       "    }\n",
       "\n",
       "    .dataframe tbody tr th {\n",
       "        vertical-align: top;\n",
       "    }\n",
       "\n",
       "    .dataframe thead th {\n",
       "        text-align: right;\n",
       "    }\n",
       "</style>\n",
       "<table border=\"1\" class=\"dataframe\">\n",
       "  <thead>\n",
       "    <tr style=\"text-align: right;\">\n",
       "      <th></th>\n",
       "      <th>service_kms</th>\n",
       "      <th>service_time</th>\n",
       "    </tr>\n",
       "    <tr>\n",
       "      <th>method</th>\n",
       "      <th></th>\n",
       "      <th></th>\n",
       "    </tr>\n",
       "  </thead>\n",
       "  <tbody>\n",
       "    <tr>\n",
       "      <th>AGENCY</th>\n",
       "      <td>63.15</td>\n",
       "      <td>47335.5</td>\n",
       "    </tr>\n",
       "    <tr>\n",
       "      <th>BASELINE</th>\n",
       "      <td>63.15</td>\n",
       "      <td>46850.0</td>\n",
       "    </tr>\n",
       "    <tr>\n",
       "      <th>MCTS</th>\n",
       "      <td>10.76</td>\n",
       "      <td>57960.0</td>\n",
       "    </tr>\n",
       "    <tr>\n",
       "      <th>SEARCH</th>\n",
       "      <td>63.78</td>\n",
       "      <td>48253.0</td>\n",
       "    </tr>\n",
       "  </tbody>\n",
       "</table>\n",
       "</div>"
      ],
      "text/plain": [
       "          service_kms  service_time\n",
       "method                             \n",
       "AGENCY          63.15       47335.5\n",
       "BASELINE        63.15       46850.0\n",
       "MCTS            10.76       57960.0\n",
       "SEARCH          63.78       48253.0"
      ]
     },
     "execution_count": 46,
     "metadata": {},
     "output_type": "execute_result"
    }
   ],
   "source": [
    "# bus_df.query(\"date == @date and noise == 0 and real_env == 'REAL WORLD' and mcts_env == 'TEST WORLD'\").groupby(\n",
    "#     \"method\"\n",
    "# ).agg({\"total_served\": \"sum\"})\n",
    "bus_df.query(\n",
    "    \"date == @date and noise == 0 and real_env == 'REAL WORLD' and mcts_env == 'TEST WORLD' and type == 'BusType.OVERLOAD'\"\n",
    ").groupby(\"method\").agg({\"service_kms\": \"sum\", \"service_time\": \"sum\"})"
   ]
  },
  {
   "cell_type": "markdown",
   "metadata": {},
   "source": [
    "# plotting service kms (real world env)"
   ]
  },
  {
   "cell_type": "code",
   "execution_count": 47,
   "metadata": {},
   "outputs": [
    {
     "data": {
      "text/html": [
       "<div>\n",
       "<style scoped>\n",
       "    .dataframe tbody tr th:only-of-type {\n",
       "        vertical-align: middle;\n",
       "    }\n",
       "\n",
       "    .dataframe tbody tr th {\n",
       "        vertical-align: top;\n",
       "    }\n",
       "\n",
       "    .dataframe thead th {\n",
       "        text-align: right;\n",
       "    }\n",
       "</style>\n",
       "<table border=\"1\" class=\"dataframe\">\n",
       "  <thead>\n",
       "    <tr style=\"text-align: right;\">\n",
       "      <th></th>\n",
       "      <th>bus_id</th>\n",
       "      <th>dwell_time</th>\n",
       "      <th>agg_delay</th>\n",
       "      <th>service_time</th>\n",
       "      <th>total_served</th>\n",
       "      <th>service_kms</th>\n",
       "      <th>current_stop</th>\n",
       "      <th>status</th>\n",
       "      <th>type</th>\n",
       "      <th>total_deadsecs</th>\n",
       "      <th>starting_stop</th>\n",
       "      <th>date</th>\n",
       "      <th>method</th>\n",
       "      <th>real_env</th>\n",
       "      <th>mcts_env</th>\n",
       "      <th>noise</th>\n",
       "    </tr>\n",
       "  </thead>\n",
       "  <tbody>\n",
       "    <tr>\n",
       "      <th>2</th>\n",
       "      <td>1311</td>\n",
       "      <td>19185.0</td>\n",
       "      <td>1.09</td>\n",
       "      <td>39600.0</td>\n",
       "      <td>10.0</td>\n",
       "      <td>0.0</td>\n",
       "      <td>25ACLASN</td>\n",
       "      <td>0</td>\n",
       "      <td>BusType.REGULAR</td>\n",
       "      <td>0.0</td>\n",
       "      <td>MTA</td>\n",
       "      <td>20210312</td>\n",
       "      <td>MCTS</td>\n",
       "      <td>REAL WORLD</td>\n",
       "      <td>TEST WORLD</td>\n",
       "      <td>0</td>\n",
       "    </tr>\n",
       "    <tr>\n",
       "      <th>10</th>\n",
       "      <td>1803</td>\n",
       "      <td>19975.8</td>\n",
       "      <td>0.00</td>\n",
       "      <td>60594.0</td>\n",
       "      <td>14.0</td>\n",
       "      <td>0.0</td>\n",
       "      <td>21AACKSF</td>\n",
       "      <td>0</td>\n",
       "      <td>BusType.REGULAR</td>\n",
       "      <td>0.0</td>\n",
       "      <td>MCC</td>\n",
       "      <td>20210312</td>\n",
       "      <td>MCTS</td>\n",
       "      <td>REAL WORLD</td>\n",
       "      <td>TEST WORLD</td>\n",
       "      <td>0</td>\n",
       "    </tr>\n",
       "    <tr>\n",
       "      <th>22</th>\n",
       "      <td>1821</td>\n",
       "      <td>11272.2</td>\n",
       "      <td>6.87</td>\n",
       "      <td>28002.0</td>\n",
       "      <td>11.0</td>\n",
       "      <td>0.0</td>\n",
       "      <td>5AVJRGSN</td>\n",
       "      <td>0</td>\n",
       "      <td>BusType.REGULAR</td>\n",
       "      <td>0.0</td>\n",
       "      <td>MCC</td>\n",
       "      <td>20210312</td>\n",
       "      <td>MCTS</td>\n",
       "      <td>REAL WORLD</td>\n",
       "      <td>TEST WORLD</td>\n",
       "      <td>0</td>\n",
       "    </tr>\n",
       "    <tr>\n",
       "      <th>27</th>\n",
       "      <td>1827</td>\n",
       "      <td>9555.7</td>\n",
       "      <td>0.21</td>\n",
       "      <td>23224.0</td>\n",
       "      <td>19.0</td>\n",
       "      <td>0.0</td>\n",
       "      <td>NXOMCNLY</td>\n",
       "      <td>0</td>\n",
       "      <td>BusType.REGULAR</td>\n",
       "      <td>0.0</td>\n",
       "      <td>MCC</td>\n",
       "      <td>20210312</td>\n",
       "      <td>MCTS</td>\n",
       "      <td>REAL WORLD</td>\n",
       "      <td>TEST WORLD</td>\n",
       "      <td>0</td>\n",
       "    </tr>\n",
       "    <tr>\n",
       "      <th>37</th>\n",
       "      <td>1913</td>\n",
       "      <td>0.0</td>\n",
       "      <td>0.00</td>\n",
       "      <td>0.0</td>\n",
       "      <td>0.0</td>\n",
       "      <td>0.0</td>\n",
       "      <td>GXIMADLB</td>\n",
       "      <td>0</td>\n",
       "      <td>BusType.REGULAR</td>\n",
       "      <td>0.0</td>\n",
       "      <td>GXIMADLB</td>\n",
       "      <td>20210312</td>\n",
       "      <td>MCTS</td>\n",
       "      <td>REAL WORLD</td>\n",
       "      <td>TEST WORLD</td>\n",
       "      <td>0</td>\n",
       "    </tr>\n",
       "    <tr>\n",
       "      <th>...</th>\n",
       "      <td>...</td>\n",
       "      <td>...</td>\n",
       "      <td>...</td>\n",
       "      <td>...</td>\n",
       "      <td>...</td>\n",
       "      <td>...</td>\n",
       "      <td>...</td>\n",
       "      <td>...</td>\n",
       "      <td>...</td>\n",
       "      <td>...</td>\n",
       "      <td>...</td>\n",
       "      <td>...</td>\n",
       "      <td>...</td>\n",
       "      <td>...</td>\n",
       "      <td>...</td>\n",
       "      <td>...</td>\n",
       "    </tr>\n",
       "    <tr>\n",
       "      <th>51</th>\n",
       "      <td>2019</td>\n",
       "      <td>213.5</td>\n",
       "      <td>0.00</td>\n",
       "      <td>0.0</td>\n",
       "      <td>0.0</td>\n",
       "      <td>0.0</td>\n",
       "      <td>MCC</td>\n",
       "      <td>0</td>\n",
       "      <td>BusType.REGULAR</td>\n",
       "      <td>0.0</td>\n",
       "      <td>MCC</td>\n",
       "      <td>20210401</td>\n",
       "      <td>BASELINE</td>\n",
       "      <td>REAL WORLD</td>\n",
       "      <td>TEST WORLD</td>\n",
       "      <td>1</td>\n",
       "    </tr>\n",
       "    <tr>\n",
       "      <th>0</th>\n",
       "      <td>120</td>\n",
       "      <td>11635.4</td>\n",
       "      <td>2.11</td>\n",
       "      <td>28890.0</td>\n",
       "      <td>9.0</td>\n",
       "      <td>0.0</td>\n",
       "      <td>GALCARSN</td>\n",
       "      <td>0</td>\n",
       "      <td>BusType.REGULAR</td>\n",
       "      <td>0.0</td>\n",
       "      <td>GXIRIVEF</td>\n",
       "      <td>20210425</td>\n",
       "      <td>AGENCY</td>\n",
       "      <td>REAL WORLD</td>\n",
       "      <td>TEST WORLD</td>\n",
       "      <td>1</td>\n",
       "    </tr>\n",
       "    <tr>\n",
       "      <th>21</th>\n",
       "      <td>197</td>\n",
       "      <td>11856.1</td>\n",
       "      <td>1.68</td>\n",
       "      <td>34347.0</td>\n",
       "      <td>10.0</td>\n",
       "      <td>0.0</td>\n",
       "      <td>GALCONNN</td>\n",
       "      <td>0</td>\n",
       "      <td>BusType.REGULAR</td>\n",
       "      <td>0.0</td>\n",
       "      <td>GXIRIVEF</td>\n",
       "      <td>20210425</td>\n",
       "      <td>AGENCY</td>\n",
       "      <td>REAL WORLD</td>\n",
       "      <td>TEST WORLD</td>\n",
       "      <td>1</td>\n",
       "    </tr>\n",
       "    <tr>\n",
       "      <th>28</th>\n",
       "      <td>2013</td>\n",
       "      <td>6439.7</td>\n",
       "      <td>8.30</td>\n",
       "      <td>19838.0</td>\n",
       "      <td>10.0</td>\n",
       "      <td>0.0</td>\n",
       "      <td>CLAWHASN</td>\n",
       "      <td>0</td>\n",
       "      <td>BusType.REGULAR</td>\n",
       "      <td>0.0</td>\n",
       "      <td>MCC</td>\n",
       "      <td>20210425</td>\n",
       "      <td>AGENCY</td>\n",
       "      <td>REAL WORLD</td>\n",
       "      <td>TEST WORLD</td>\n",
       "      <td>1</td>\n",
       "    </tr>\n",
       "    <tr>\n",
       "      <th>30</th>\n",
       "      <td>2165</td>\n",
       "      <td>5076.5</td>\n",
       "      <td>2.51</td>\n",
       "      <td>14444.0</td>\n",
       "      <td>14.0</td>\n",
       "      <td>0.0</td>\n",
       "      <td>GALMONSN</td>\n",
       "      <td>0</td>\n",
       "      <td>BusType.REGULAR</td>\n",
       "      <td>0.0</td>\n",
       "      <td>GXIRIVEF</td>\n",
       "      <td>20210425</td>\n",
       "      <td>AGENCY</td>\n",
       "      <td>REAL WORLD</td>\n",
       "      <td>TEST WORLD</td>\n",
       "      <td>1</td>\n",
       "    </tr>\n",
       "  </tbody>\n",
       "</table>\n",
       "<p>2888 rows × 16 columns</p>\n",
       "</div>"
      ],
      "text/plain": [
       "    bus_id  dwell_time  agg_delay  service_time  total_served  service_kms  \\\n",
       "2     1311     19185.0       1.09       39600.0          10.0          0.0   \n",
       "10    1803     19975.8       0.00       60594.0          14.0          0.0   \n",
       "22    1821     11272.2       6.87       28002.0          11.0          0.0   \n",
       "27    1827      9555.7       0.21       23224.0          19.0          0.0   \n",
       "37    1913         0.0       0.00           0.0           0.0          0.0   \n",
       "..     ...         ...        ...           ...           ...          ...   \n",
       "51    2019       213.5       0.00           0.0           0.0          0.0   \n",
       "0      120     11635.4       2.11       28890.0           9.0          0.0   \n",
       "21     197     11856.1       1.68       34347.0          10.0          0.0   \n",
       "28    2013      6439.7       8.30       19838.0          10.0          0.0   \n",
       "30    2165      5076.5       2.51       14444.0          14.0          0.0   \n",
       "\n",
       "   current_stop  status             type  total_deadsecs starting_stop  \\\n",
       "2      25ACLASN       0  BusType.REGULAR             0.0           MTA   \n",
       "10     21AACKSF       0  BusType.REGULAR             0.0           MCC   \n",
       "22     5AVJRGSN       0  BusType.REGULAR             0.0           MCC   \n",
       "27     NXOMCNLY       0  BusType.REGULAR             0.0           MCC   \n",
       "37     GXIMADLB       0  BusType.REGULAR             0.0      GXIMADLB   \n",
       "..          ...     ...              ...             ...           ...   \n",
       "51          MCC       0  BusType.REGULAR             0.0           MCC   \n",
       "0      GALCARSN       0  BusType.REGULAR             0.0      GXIRIVEF   \n",
       "21     GALCONNN       0  BusType.REGULAR             0.0      GXIRIVEF   \n",
       "28     CLAWHASN       0  BusType.REGULAR             0.0           MCC   \n",
       "30     GALMONSN       0  BusType.REGULAR             0.0      GXIRIVEF   \n",
       "\n",
       "        date    method    real_env    mcts_env  noise  \n",
       "2   20210312      MCTS  REAL WORLD  TEST WORLD      0  \n",
       "10  20210312      MCTS  REAL WORLD  TEST WORLD      0  \n",
       "22  20210312      MCTS  REAL WORLD  TEST WORLD      0  \n",
       "27  20210312      MCTS  REAL WORLD  TEST WORLD      0  \n",
       "37  20210312      MCTS  REAL WORLD  TEST WORLD      0  \n",
       "..       ...       ...         ...         ...    ...  \n",
       "51  20210401  BASELINE  REAL WORLD  TEST WORLD      1  \n",
       "0   20210425    AGENCY  REAL WORLD  TEST WORLD      1  \n",
       "21  20210425    AGENCY  REAL WORLD  TEST WORLD      1  \n",
       "28  20210425    AGENCY  REAL WORLD  TEST WORLD      1  \n",
       "30  20210425    AGENCY  REAL WORLD  TEST WORLD      1  \n",
       "\n",
       "[2888 rows x 16 columns]"
      ]
     },
     "execution_count": 47,
     "metadata": {},
     "output_type": "execute_result"
    }
   ],
   "source": [
    "bus_df.query(\"status == 0\")"
   ]
  },
  {
   "cell_type": "code",
   "execution_count": 48,
   "metadata": {},
   "outputs": [],
   "source": [
    "MCTS_DATES = [\n",
    "    \"20210130\",\n",
    "    \"20210211\",\n",
    "    \"20210302\",\n",
    "    \"20210312\",\n",
    "    \"20210401\",\n",
    "    \"20210425\",\n",
    "    \"20210606\",\n",
    "    \"20210624\",\n",
    "    \"20210725\",\n",
    "    \"20210829\",\n",
    "    \"20210901\",\n",
    "]"
   ]
  },
  {
   "cell_type": "code",
   "execution_count": 49,
   "metadata": {},
   "outputs": [
    {
     "data": {
      "text/html": [
       "<div>\n",
       "<style scoped>\n",
       "    .dataframe tbody tr th:only-of-type {\n",
       "        vertical-align: middle;\n",
       "    }\n",
       "\n",
       "    .dataframe tbody tr th {\n",
       "        vertical-align: top;\n",
       "    }\n",
       "\n",
       "    .dataframe thead th {\n",
       "        text-align: right;\n",
       "    }\n",
       "</style>\n",
       "<table border=\"1\" class=\"dataframe\">\n",
       "  <thead>\n",
       "    <tr style=\"text-align: right;\">\n",
       "      <th></th>\n",
       "      <th>date</th>\n",
       "      <th>method</th>\n",
       "      <th>total_passenger_ons</th>\n",
       "      <th>total_passenger_offs</th>\n",
       "      <th>total_passenger_walk_away</th>\n",
       "      <th>total_served</th>\n",
       "      <th>service_kms</th>\n",
       "      <th>service_time</th>\n",
       "      <th>all_pax</th>\n",
       "    </tr>\n",
       "  </thead>\n",
       "  <tbody>\n",
       "    <tr>\n",
       "      <th>0</th>\n",
       "      <td>20210130</td>\n",
       "      <td>AGENCY</td>\n",
       "      <td>2492.0</td>\n",
       "      <td>2492.0</td>\n",
       "      <td>0.0</td>\n",
       "      <td>85.0</td>\n",
       "      <td>132.85</td>\n",
       "      <td>134980.7</td>\n",
       "      <td>2492.0</td>\n",
       "    </tr>\n",
       "    <tr>\n",
       "      <th>1</th>\n",
       "      <td>20210130</td>\n",
       "      <td>BASELINE</td>\n",
       "      <td>2492.0</td>\n",
       "      <td>2492.0</td>\n",
       "      <td>0.0</td>\n",
       "      <td>85.0</td>\n",
       "      <td>133.60</td>\n",
       "      <td>136060.7</td>\n",
       "      <td>2492.0</td>\n",
       "    </tr>\n",
       "    <tr>\n",
       "      <th>3</th>\n",
       "      <td>20210130</td>\n",
       "      <td>SEARCH</td>\n",
       "      <td>2492.0</td>\n",
       "      <td>2492.0</td>\n",
       "      <td>0.0</td>\n",
       "      <td>85.0</td>\n",
       "      <td>110.86</td>\n",
       "      <td>134860.7</td>\n",
       "      <td>2492.0</td>\n",
       "    </tr>\n",
       "    <tr>\n",
       "      <th>8</th>\n",
       "      <td>20210211</td>\n",
       "      <td>AGENCY</td>\n",
       "      <td>3766.0</td>\n",
       "      <td>3766.0</td>\n",
       "      <td>157.0</td>\n",
       "      <td>103.0</td>\n",
       "      <td>201.61</td>\n",
       "      <td>266547.6</td>\n",
       "      <td>3923.0</td>\n",
       "    </tr>\n",
       "    <tr>\n",
       "      <th>9</th>\n",
       "      <td>20210211</td>\n",
       "      <td>BASELINE</td>\n",
       "      <td>3766.0</td>\n",
       "      <td>3766.0</td>\n",
       "      <td>157.0</td>\n",
       "      <td>103.0</td>\n",
       "      <td>216.38</td>\n",
       "      <td>266673.9</td>\n",
       "      <td>3923.0</td>\n",
       "    </tr>\n",
       "  </tbody>\n",
       "</table>\n",
       "</div>"
      ],
      "text/plain": [
       "       date    method  total_passenger_ons  total_passenger_offs  \\\n",
       "0  20210130    AGENCY               2492.0                2492.0   \n",
       "1  20210130  BASELINE               2492.0                2492.0   \n",
       "3  20210130    SEARCH               2492.0                2492.0   \n",
       "8  20210211    AGENCY               3766.0                3766.0   \n",
       "9  20210211  BASELINE               3766.0                3766.0   \n",
       "\n",
       "   total_passenger_walk_away  total_served  service_kms  service_time  all_pax  \n",
       "0                        0.0          85.0       132.85      134980.7   2492.0  \n",
       "1                        0.0          85.0       133.60      136060.7   2492.0  \n",
       "3                        0.0          85.0       110.86      134860.7   2492.0  \n",
       "8                      157.0         103.0       201.61      266547.6   3923.0  \n",
       "9                      157.0         103.0       216.38      266673.9   3923.0  "
      ]
     },
     "metadata": {},
     "output_type": "display_data"
    },
    {
     "data": {
      "text/html": [
       "<div>\n",
       "<style scoped>\n",
       "    .dataframe tbody tr th:only-of-type {\n",
       "        vertical-align: middle;\n",
       "    }\n",
       "\n",
       "    .dataframe tbody tr th {\n",
       "        vertical-align: top;\n",
       "    }\n",
       "\n",
       "    .dataframe thead th {\n",
       "        text-align: right;\n",
       "    }\n",
       "</style>\n",
       "<table border=\"1\" class=\"dataframe\">\n",
       "  <thead>\n",
       "    <tr style=\"text-align: right;\">\n",
       "      <th></th>\n",
       "      <th>index</th>\n",
       "      <th>method</th>\n",
       "      <th>service_kms</th>\n",
       "      <th>std</th>\n",
       "      <th>mean</th>\n",
       "    </tr>\n",
       "  </thead>\n",
       "  <tbody>\n",
       "    <tr>\n",
       "      <th>0</th>\n",
       "      <td>0</td>\n",
       "      <td>AGENCY</td>\n",
       "      <td>[132.85, 201.61, 140.41, 287.36, 262.39, 153.0...</td>\n",
       "      <td>87.780137</td>\n",
       "      <td>198.724545</td>\n",
       "    </tr>\n",
       "    <tr>\n",
       "      <th>1</th>\n",
       "      <td>1</td>\n",
       "      <td>BASELINE</td>\n",
       "      <td>[133.6, 216.38, 153.09, 296.87, 264.91, 153.87...</td>\n",
       "      <td>88.548893</td>\n",
       "      <td>204.841818</td>\n",
       "    </tr>\n",
       "    <tr>\n",
       "      <th>2</th>\n",
       "      <td>2</td>\n",
       "      <td>MCTS_5</td>\n",
       "      <td>[167.64, 125.31, 196.92000000000002, 171.32, 5...</td>\n",
       "      <td>65.225345</td>\n",
       "      <td>157.875714</td>\n",
       "    </tr>\n",
       "    <tr>\n",
       "      <th>3</th>\n",
       "      <td>3</td>\n",
       "      <td>SEARCH</td>\n",
       "      <td>[110.86, 195.6, 134.97, 284.9, 259.2, 155.97, ...</td>\n",
       "      <td>88.232617</td>\n",
       "      <td>195.343636</td>\n",
       "    </tr>\n",
       "  </tbody>\n",
       "</table>\n",
       "</div>"
      ],
      "text/plain": [
       "   index    method                                        service_kms  \\\n",
       "0      0    AGENCY  [132.85, 201.61, 140.41, 287.36, 262.39, 153.0...   \n",
       "1      1  BASELINE  [133.6, 216.38, 153.09, 296.87, 264.91, 153.87...   \n",
       "2      2    MCTS_5  [167.64, 125.31, 196.92000000000002, 171.32, 5...   \n",
       "3      3    SEARCH  [110.86, 195.6, 134.97, 284.9, 259.2, 155.97, ...   \n",
       "\n",
       "         std        mean  \n",
       "0  87.780137  198.724545  \n",
       "1  88.548893  204.841818  \n",
       "2  65.225345  157.875714  \n",
       "3  88.232617  195.343636  "
      ]
     },
     "execution_count": 49,
     "metadata": {},
     "output_type": "execute_result"
    }
   ],
   "source": [
    "MCTS_TYPE = \"MCTS_5\"\n",
    "real_env = \"TEST WORLD\"\n",
    "mcts_env = \"TEST WORLD\"\n",
    "a = (\n",
    "    stop_df.query(\"noise == 0 and real_env == @real_env and mcts_env == 'TEST WORLD'\")\n",
    "    .groupby([\"date\", \"method\"])\n",
    "    .agg({\"total_passenger_ons\": \"sum\", \"total_passenger_offs\": \"sum\", \"total_passenger_walk_away\": \"sum\"})\n",
    ")\n",
    "b = (\n",
    "    bus_df.query(\"noise == 0 and real_env == @real_env and mcts_env == @mcts_env and type == 'BusType.OVERLOAD'\")\n",
    "    .groupby([\"date\", \"method\"])\n",
    "    .agg({\"total_served\": \"sum\", \"service_kms\": \"sum\", \"service_time\": \"sum\"})\n",
    ")\n",
    "df = pd.merge(a, b, on=[\"date\", \"method\"])\n",
    "df = df.reset_index()\n",
    "df[\"all_pax\"] = df[\"total_passenger_ons\"] + df[\"total_passenger_walk_away\"]\n",
    "\n",
    "df = df[df[\"date\"].isin(MCTS_DATES)]\n",
    "df = df[df[\"method\"].isin([\"AGENCY\", \"BASELINE\", \"SEARCH\", MCTS_TYPE])]\n",
    "# df.to_csv(\"./results/total_ons.csv\")\n",
    "display(df.head())\n",
    "\n",
    "# df['normalized_service_kms'] = df.groupby(level='date')['service_kms'].apply(lambda x: x / x.max()).reset_index(level=0, drop=True)\n",
    "df = df.reset_index()\n",
    "df = df.groupby(\"method\").agg({\"service_kms\": list}).reset_index()\n",
    "\n",
    "import numpy as np\n",
    "\n",
    "df[\"std\"] = df[\"service_kms\"].apply(lambda x: np.std(x))\n",
    "df[\"mean\"] = df[\"service_kms\"].apply(lambda x: np.mean(x))\n",
    "df = df.reset_index()\n",
    "df = df[df[\"method\"].isin([\"AGENCY\", \"BASELINE\", \"SEARCH\", MCTS_TYPE])]\n",
    "df.head()"
   ]
  },
  {
   "cell_type": "code",
   "execution_count": 50,
   "metadata": {},
   "outputs": [
    {
     "data": {
      "application/vnd.plotly.v1+json": {
       "config": {
        "plotlyServerURL": "https://plot.ly"
       },
       "data": [
        {
         "error_y": {
          "array": [
           88.54889340904799,
           87.78013674295325,
           88.23261675539342,
           65.22534451688958
          ],
          "thickness": 5
         },
         "hovertemplate": "method=%{x}<br>mean=%{y}<extra></extra>",
         "legendgroup": "",
         "line": {
          "color": "#636efa",
          "dash": "solid",
          "width": 5
         },
         "marker": {
          "symbol": "circle"
         },
         "mode": "lines+markers",
         "name": "",
         "orientation": "v",
         "showlegend": false,
         "type": "scatter",
         "x": [
          "GARAGE",
          "AGENCY",
          "SEARCH",
          "MCTS_5"
         ],
         "xaxis": "x",
         "y": [
          204.8418181818182,
          198.72454545454548,
          195.34363636363634,
          157.8757142857143
         ],
         "yaxis": "y"
        }
       ],
       "layout": {
        "font": {
         "color": "black",
         "size": 18
        },
        "height": 500,
        "legend": {
         "tracegroupgap": 0
        },
        "margin": {
         "b": 5,
         "l": 5,
         "r": 5,
         "t": 5
        },
        "paper_bgcolor": "rgba(0, 0, 0, 0)",
        "plot_bgcolor": "rgba(0, 0, 0, 0)",
        "template": {
         "data": {
          "bar": [
           {
            "error_x": {
             "color": "#2a3f5f"
            },
            "error_y": {
             "color": "#2a3f5f"
            },
            "marker": {
             "line": {
              "color": "#E5ECF6",
              "width": 0.5
             },
             "pattern": {
              "fillmode": "overlay",
              "size": 10,
              "solidity": 0.2
             }
            },
            "type": "bar"
           }
          ],
          "barpolar": [
           {
            "marker": {
             "line": {
              "color": "#E5ECF6",
              "width": 0.5
             },
             "pattern": {
              "fillmode": "overlay",
              "size": 10,
              "solidity": 0.2
             }
            },
            "type": "barpolar"
           }
          ],
          "carpet": [
           {
            "aaxis": {
             "endlinecolor": "#2a3f5f",
             "gridcolor": "white",
             "linecolor": "white",
             "minorgridcolor": "white",
             "startlinecolor": "#2a3f5f"
            },
            "baxis": {
             "endlinecolor": "#2a3f5f",
             "gridcolor": "white",
             "linecolor": "white",
             "minorgridcolor": "white",
             "startlinecolor": "#2a3f5f"
            },
            "type": "carpet"
           }
          ],
          "choropleth": [
           {
            "colorbar": {
             "outlinewidth": 0,
             "ticks": ""
            },
            "type": "choropleth"
           }
          ],
          "contour": [
           {
            "colorbar": {
             "outlinewidth": 0,
             "ticks": ""
            },
            "colorscale": [
             [
              0,
              "#0d0887"
             ],
             [
              0.1111111111111111,
              "#46039f"
             ],
             [
              0.2222222222222222,
              "#7201a8"
             ],
             [
              0.3333333333333333,
              "#9c179e"
             ],
             [
              0.4444444444444444,
              "#bd3786"
             ],
             [
              0.5555555555555556,
              "#d8576b"
             ],
             [
              0.6666666666666666,
              "#ed7953"
             ],
             [
              0.7777777777777778,
              "#fb9f3a"
             ],
             [
              0.8888888888888888,
              "#fdca26"
             ],
             [
              1,
              "#f0f921"
             ]
            ],
            "type": "contour"
           }
          ],
          "contourcarpet": [
           {
            "colorbar": {
             "outlinewidth": 0,
             "ticks": ""
            },
            "type": "contourcarpet"
           }
          ],
          "heatmap": [
           {
            "colorbar": {
             "outlinewidth": 0,
             "ticks": ""
            },
            "colorscale": [
             [
              0,
              "#0d0887"
             ],
             [
              0.1111111111111111,
              "#46039f"
             ],
             [
              0.2222222222222222,
              "#7201a8"
             ],
             [
              0.3333333333333333,
              "#9c179e"
             ],
             [
              0.4444444444444444,
              "#bd3786"
             ],
             [
              0.5555555555555556,
              "#d8576b"
             ],
             [
              0.6666666666666666,
              "#ed7953"
             ],
             [
              0.7777777777777778,
              "#fb9f3a"
             ],
             [
              0.8888888888888888,
              "#fdca26"
             ],
             [
              1,
              "#f0f921"
             ]
            ],
            "type": "heatmap"
           }
          ],
          "heatmapgl": [
           {
            "colorbar": {
             "outlinewidth": 0,
             "ticks": ""
            },
            "colorscale": [
             [
              0,
              "#0d0887"
             ],
             [
              0.1111111111111111,
              "#46039f"
             ],
             [
              0.2222222222222222,
              "#7201a8"
             ],
             [
              0.3333333333333333,
              "#9c179e"
             ],
             [
              0.4444444444444444,
              "#bd3786"
             ],
             [
              0.5555555555555556,
              "#d8576b"
             ],
             [
              0.6666666666666666,
              "#ed7953"
             ],
             [
              0.7777777777777778,
              "#fb9f3a"
             ],
             [
              0.8888888888888888,
              "#fdca26"
             ],
             [
              1,
              "#f0f921"
             ]
            ],
            "type": "heatmapgl"
           }
          ],
          "histogram": [
           {
            "marker": {
             "pattern": {
              "fillmode": "overlay",
              "size": 10,
              "solidity": 0.2
             }
            },
            "type": "histogram"
           }
          ],
          "histogram2d": [
           {
            "colorbar": {
             "outlinewidth": 0,
             "ticks": ""
            },
            "colorscale": [
             [
              0,
              "#0d0887"
             ],
             [
              0.1111111111111111,
              "#46039f"
             ],
             [
              0.2222222222222222,
              "#7201a8"
             ],
             [
              0.3333333333333333,
              "#9c179e"
             ],
             [
              0.4444444444444444,
              "#bd3786"
             ],
             [
              0.5555555555555556,
              "#d8576b"
             ],
             [
              0.6666666666666666,
              "#ed7953"
             ],
             [
              0.7777777777777778,
              "#fb9f3a"
             ],
             [
              0.8888888888888888,
              "#fdca26"
             ],
             [
              1,
              "#f0f921"
             ]
            ],
            "type": "histogram2d"
           }
          ],
          "histogram2dcontour": [
           {
            "colorbar": {
             "outlinewidth": 0,
             "ticks": ""
            },
            "colorscale": [
             [
              0,
              "#0d0887"
             ],
             [
              0.1111111111111111,
              "#46039f"
             ],
             [
              0.2222222222222222,
              "#7201a8"
             ],
             [
              0.3333333333333333,
              "#9c179e"
             ],
             [
              0.4444444444444444,
              "#bd3786"
             ],
             [
              0.5555555555555556,
              "#d8576b"
             ],
             [
              0.6666666666666666,
              "#ed7953"
             ],
             [
              0.7777777777777778,
              "#fb9f3a"
             ],
             [
              0.8888888888888888,
              "#fdca26"
             ],
             [
              1,
              "#f0f921"
             ]
            ],
            "type": "histogram2dcontour"
           }
          ],
          "mesh3d": [
           {
            "colorbar": {
             "outlinewidth": 0,
             "ticks": ""
            },
            "type": "mesh3d"
           }
          ],
          "parcoords": [
           {
            "line": {
             "colorbar": {
              "outlinewidth": 0,
              "ticks": ""
             }
            },
            "type": "parcoords"
           }
          ],
          "pie": [
           {
            "automargin": true,
            "type": "pie"
           }
          ],
          "scatter": [
           {
            "fillpattern": {
             "fillmode": "overlay",
             "size": 10,
             "solidity": 0.2
            },
            "type": "scatter"
           }
          ],
          "scatter3d": [
           {
            "line": {
             "colorbar": {
              "outlinewidth": 0,
              "ticks": ""
             }
            },
            "marker": {
             "colorbar": {
              "outlinewidth": 0,
              "ticks": ""
             }
            },
            "type": "scatter3d"
           }
          ],
          "scattercarpet": [
           {
            "marker": {
             "colorbar": {
              "outlinewidth": 0,
              "ticks": ""
             }
            },
            "type": "scattercarpet"
           }
          ],
          "scattergeo": [
           {
            "marker": {
             "colorbar": {
              "outlinewidth": 0,
              "ticks": ""
             }
            },
            "type": "scattergeo"
           }
          ],
          "scattergl": [
           {
            "marker": {
             "colorbar": {
              "outlinewidth": 0,
              "ticks": ""
             }
            },
            "type": "scattergl"
           }
          ],
          "scattermapbox": [
           {
            "marker": {
             "colorbar": {
              "outlinewidth": 0,
              "ticks": ""
             }
            },
            "type": "scattermapbox"
           }
          ],
          "scatterpolar": [
           {
            "marker": {
             "colorbar": {
              "outlinewidth": 0,
              "ticks": ""
             }
            },
            "type": "scatterpolar"
           }
          ],
          "scatterpolargl": [
           {
            "marker": {
             "colorbar": {
              "outlinewidth": 0,
              "ticks": ""
             }
            },
            "type": "scatterpolargl"
           }
          ],
          "scatterternary": [
           {
            "marker": {
             "colorbar": {
              "outlinewidth": 0,
              "ticks": ""
             }
            },
            "type": "scatterternary"
           }
          ],
          "surface": [
           {
            "colorbar": {
             "outlinewidth": 0,
             "ticks": ""
            },
            "colorscale": [
             [
              0,
              "#0d0887"
             ],
             [
              0.1111111111111111,
              "#46039f"
             ],
             [
              0.2222222222222222,
              "#7201a8"
             ],
             [
              0.3333333333333333,
              "#9c179e"
             ],
             [
              0.4444444444444444,
              "#bd3786"
             ],
             [
              0.5555555555555556,
              "#d8576b"
             ],
             [
              0.6666666666666666,
              "#ed7953"
             ],
             [
              0.7777777777777778,
              "#fb9f3a"
             ],
             [
              0.8888888888888888,
              "#fdca26"
             ],
             [
              1,
              "#f0f921"
             ]
            ],
            "type": "surface"
           }
          ],
          "table": [
           {
            "cells": {
             "fill": {
              "color": "#EBF0F8"
             },
             "line": {
              "color": "white"
             }
            },
            "header": {
             "fill": {
              "color": "#C8D4E3"
             },
             "line": {
              "color": "white"
             }
            },
            "type": "table"
           }
          ]
         },
         "layout": {
          "annotationdefaults": {
           "arrowcolor": "#2a3f5f",
           "arrowhead": 0,
           "arrowwidth": 1
          },
          "autotypenumbers": "strict",
          "coloraxis": {
           "colorbar": {
            "outlinewidth": 0,
            "ticks": ""
           }
          },
          "colorscale": {
           "diverging": [
            [
             0,
             "#8e0152"
            ],
            [
             0.1,
             "#c51b7d"
            ],
            [
             0.2,
             "#de77ae"
            ],
            [
             0.3,
             "#f1b6da"
            ],
            [
             0.4,
             "#fde0ef"
            ],
            [
             0.5,
             "#f7f7f7"
            ],
            [
             0.6,
             "#e6f5d0"
            ],
            [
             0.7,
             "#b8e186"
            ],
            [
             0.8,
             "#7fbc41"
            ],
            [
             0.9,
             "#4d9221"
            ],
            [
             1,
             "#276419"
            ]
           ],
           "sequential": [
            [
             0,
             "#0d0887"
            ],
            [
             0.1111111111111111,
             "#46039f"
            ],
            [
             0.2222222222222222,
             "#7201a8"
            ],
            [
             0.3333333333333333,
             "#9c179e"
            ],
            [
             0.4444444444444444,
             "#bd3786"
            ],
            [
             0.5555555555555556,
             "#d8576b"
            ],
            [
             0.6666666666666666,
             "#ed7953"
            ],
            [
             0.7777777777777778,
             "#fb9f3a"
            ],
            [
             0.8888888888888888,
             "#fdca26"
            ],
            [
             1,
             "#f0f921"
            ]
           ],
           "sequentialminus": [
            [
             0,
             "#0d0887"
            ],
            [
             0.1111111111111111,
             "#46039f"
            ],
            [
             0.2222222222222222,
             "#7201a8"
            ],
            [
             0.3333333333333333,
             "#9c179e"
            ],
            [
             0.4444444444444444,
             "#bd3786"
            ],
            [
             0.5555555555555556,
             "#d8576b"
            ],
            [
             0.6666666666666666,
             "#ed7953"
            ],
            [
             0.7777777777777778,
             "#fb9f3a"
            ],
            [
             0.8888888888888888,
             "#fdca26"
            ],
            [
             1,
             "#f0f921"
            ]
           ]
          },
          "colorway": [
           "#636efa",
           "#EF553B",
           "#00cc96",
           "#ab63fa",
           "#FFA15A",
           "#19d3f3",
           "#FF6692",
           "#B6E880",
           "#FF97FF",
           "#FECB52"
          ],
          "font": {
           "color": "#2a3f5f"
          },
          "geo": {
           "bgcolor": "white",
           "lakecolor": "white",
           "landcolor": "#E5ECF6",
           "showlakes": true,
           "showland": true,
           "subunitcolor": "white"
          },
          "hoverlabel": {
           "align": "left"
          },
          "hovermode": "closest",
          "mapbox": {
           "style": "light"
          },
          "paper_bgcolor": "white",
          "plot_bgcolor": "#E5ECF6",
          "polar": {
           "angularaxis": {
            "gridcolor": "white",
            "linecolor": "white",
            "ticks": ""
           },
           "bgcolor": "#E5ECF6",
           "radialaxis": {
            "gridcolor": "white",
            "linecolor": "white",
            "ticks": ""
           }
          },
          "scene": {
           "xaxis": {
            "backgroundcolor": "#E5ECF6",
            "gridcolor": "white",
            "gridwidth": 2,
            "linecolor": "white",
            "showbackground": true,
            "ticks": "",
            "zerolinecolor": "white"
           },
           "yaxis": {
            "backgroundcolor": "#E5ECF6",
            "gridcolor": "white",
            "gridwidth": 2,
            "linecolor": "white",
            "showbackground": true,
            "ticks": "",
            "zerolinecolor": "white"
           },
           "zaxis": {
            "backgroundcolor": "#E5ECF6",
            "gridcolor": "white",
            "gridwidth": 2,
            "linecolor": "white",
            "showbackground": true,
            "ticks": "",
            "zerolinecolor": "white"
           }
          },
          "shapedefaults": {
           "line": {
            "color": "#2a3f5f"
           }
          },
          "ternary": {
           "aaxis": {
            "gridcolor": "white",
            "linecolor": "white",
            "ticks": ""
           },
           "baxis": {
            "gridcolor": "white",
            "linecolor": "white",
            "ticks": ""
           },
           "bgcolor": "#E5ECF6",
           "caxis": {
            "gridcolor": "white",
            "linecolor": "white",
            "ticks": ""
           }
          },
          "title": {
           "x": 0.05
          },
          "xaxis": {
           "automargin": true,
           "gridcolor": "white",
           "linecolor": "white",
           "ticks": "",
           "title": {
            "standoff": 15
           },
           "zerolinecolor": "white",
           "zerolinewidth": 2
          },
          "yaxis": {
           "automargin": true,
           "gridcolor": "white",
           "linecolor": "white",
           "ticks": "",
           "title": {
            "standoff": 15
           },
           "zerolinecolor": "white",
           "zerolinewidth": 2
          }
         }
        },
        "title": {
         "text": ""
        },
        "width": 800,
        "xaxis": {
         "anchor": "y",
         "domain": [
          0,
          1
         ],
         "gridcolor": "lightgrey",
         "gridwidth": 0.2,
         "linecolor": "black",
         "linewidth": 1,
         "mirror": true,
         "showgrid": true,
         "showline": true,
         "title": {
          "text": "Stationing Plan"
         }
        },
        "yaxis": {
         "anchor": "x",
         "domain": [
          0,
          1
         ],
         "gridcolor": "lightgrey",
         "gridwidth": 0.2,
         "linecolor": "black",
         "linewidth": 1,
         "mirror": true,
         "showgrid": true,
         "showline": true,
         "title": {
          "text": "Deadhead kilometers"
         }
        }
       }
      },
      "text/html": [
       "<div>                            <div id=\"a0cc9827-c891-4c84-bf0e-521a165cc393\" class=\"plotly-graph-div\" style=\"height:500px; width:800px;\"></div>            <script type=\"text/javascript\">                require([\"plotly\"], function(Plotly) {                    window.PLOTLYENV=window.PLOTLYENV || {};                                    if (document.getElementById(\"a0cc9827-c891-4c84-bf0e-521a165cc393\")) {                    Plotly.newPlot(                        \"a0cc9827-c891-4c84-bf0e-521a165cc393\",                        [{\"error_y\":{\"array\":[88.54889340904799,87.78013674295325,88.23261675539342,65.22534451688958],\"thickness\":5},\"hovertemplate\":\"method=%{x}\\u003cbr\\u003emean=%{y}\\u003cextra\\u003e\\u003c\\u002fextra\\u003e\",\"legendgroup\":\"\",\"line\":{\"color\":\"#636efa\",\"dash\":\"solid\",\"width\":5},\"marker\":{\"symbol\":\"circle\"},\"mode\":\"lines+markers\",\"name\":\"\",\"orientation\":\"v\",\"showlegend\":false,\"x\":[\"GARAGE\",\"AGENCY\",\"SEARCH\",\"MCTS_5\"],\"xaxis\":\"x\",\"y\":[204.8418181818182,198.72454545454548,195.34363636363634,157.8757142857143],\"yaxis\":\"y\",\"type\":\"scatter\"}],                        {\"template\":{\"data\":{\"histogram2dcontour\":[{\"type\":\"histogram2dcontour\",\"colorbar\":{\"outlinewidth\":0,\"ticks\":\"\"},\"colorscale\":[[0.0,\"#0d0887\"],[0.1111111111111111,\"#46039f\"],[0.2222222222222222,\"#7201a8\"],[0.3333333333333333,\"#9c179e\"],[0.4444444444444444,\"#bd3786\"],[0.5555555555555556,\"#d8576b\"],[0.6666666666666666,\"#ed7953\"],[0.7777777777777778,\"#fb9f3a\"],[0.8888888888888888,\"#fdca26\"],[1.0,\"#f0f921\"]]}],\"choropleth\":[{\"type\":\"choropleth\",\"colorbar\":{\"outlinewidth\":0,\"ticks\":\"\"}}],\"histogram2d\":[{\"type\":\"histogram2d\",\"colorbar\":{\"outlinewidth\":0,\"ticks\":\"\"},\"colorscale\":[[0.0,\"#0d0887\"],[0.1111111111111111,\"#46039f\"],[0.2222222222222222,\"#7201a8\"],[0.3333333333333333,\"#9c179e\"],[0.4444444444444444,\"#bd3786\"],[0.5555555555555556,\"#d8576b\"],[0.6666666666666666,\"#ed7953\"],[0.7777777777777778,\"#fb9f3a\"],[0.8888888888888888,\"#fdca26\"],[1.0,\"#f0f921\"]]}],\"heatmap\":[{\"type\":\"heatmap\",\"colorbar\":{\"outlinewidth\":0,\"ticks\":\"\"},\"colorscale\":[[0.0,\"#0d0887\"],[0.1111111111111111,\"#46039f\"],[0.2222222222222222,\"#7201a8\"],[0.3333333333333333,\"#9c179e\"],[0.4444444444444444,\"#bd3786\"],[0.5555555555555556,\"#d8576b\"],[0.6666666666666666,\"#ed7953\"],[0.7777777777777778,\"#fb9f3a\"],[0.8888888888888888,\"#fdca26\"],[1.0,\"#f0f921\"]]}],\"heatmapgl\":[{\"type\":\"heatmapgl\",\"colorbar\":{\"outlinewidth\":0,\"ticks\":\"\"},\"colorscale\":[[0.0,\"#0d0887\"],[0.1111111111111111,\"#46039f\"],[0.2222222222222222,\"#7201a8\"],[0.3333333333333333,\"#9c179e\"],[0.4444444444444444,\"#bd3786\"],[0.5555555555555556,\"#d8576b\"],[0.6666666666666666,\"#ed7953\"],[0.7777777777777778,\"#fb9f3a\"],[0.8888888888888888,\"#fdca26\"],[1.0,\"#f0f921\"]]}],\"contourcarpet\":[{\"type\":\"contourcarpet\",\"colorbar\":{\"outlinewidth\":0,\"ticks\":\"\"}}],\"contour\":[{\"type\":\"contour\",\"colorbar\":{\"outlinewidth\":0,\"ticks\":\"\"},\"colorscale\":[[0.0,\"#0d0887\"],[0.1111111111111111,\"#46039f\"],[0.2222222222222222,\"#7201a8\"],[0.3333333333333333,\"#9c179e\"],[0.4444444444444444,\"#bd3786\"],[0.5555555555555556,\"#d8576b\"],[0.6666666666666666,\"#ed7953\"],[0.7777777777777778,\"#fb9f3a\"],[0.8888888888888888,\"#fdca26\"],[1.0,\"#f0f921\"]]}],\"surface\":[{\"type\":\"surface\",\"colorbar\":{\"outlinewidth\":0,\"ticks\":\"\"},\"colorscale\":[[0.0,\"#0d0887\"],[0.1111111111111111,\"#46039f\"],[0.2222222222222222,\"#7201a8\"],[0.3333333333333333,\"#9c179e\"],[0.4444444444444444,\"#bd3786\"],[0.5555555555555556,\"#d8576b\"],[0.6666666666666666,\"#ed7953\"],[0.7777777777777778,\"#fb9f3a\"],[0.8888888888888888,\"#fdca26\"],[1.0,\"#f0f921\"]]}],\"mesh3d\":[{\"type\":\"mesh3d\",\"colorbar\":{\"outlinewidth\":0,\"ticks\":\"\"}}],\"scatter\":[{\"fillpattern\":{\"fillmode\":\"overlay\",\"size\":10,\"solidity\":0.2},\"type\":\"scatter\"}],\"parcoords\":[{\"type\":\"parcoords\",\"line\":{\"colorbar\":{\"outlinewidth\":0,\"ticks\":\"\"}}}],\"scatterpolargl\":[{\"type\":\"scatterpolargl\",\"marker\":{\"colorbar\":{\"outlinewidth\":0,\"ticks\":\"\"}}}],\"bar\":[{\"error_x\":{\"color\":\"#2a3f5f\"},\"error_y\":{\"color\":\"#2a3f5f\"},\"marker\":{\"line\":{\"color\":\"#E5ECF6\",\"width\":0.5},\"pattern\":{\"fillmode\":\"overlay\",\"size\":10,\"solidity\":0.2}},\"type\":\"bar\"}],\"scattergeo\":[{\"type\":\"scattergeo\",\"marker\":{\"colorbar\":{\"outlinewidth\":0,\"ticks\":\"\"}}}],\"scatterpolar\":[{\"type\":\"scatterpolar\",\"marker\":{\"colorbar\":{\"outlinewidth\":0,\"ticks\":\"\"}}}],\"histogram\":[{\"marker\":{\"pattern\":{\"fillmode\":\"overlay\",\"size\":10,\"solidity\":0.2}},\"type\":\"histogram\"}],\"scattergl\":[{\"type\":\"scattergl\",\"marker\":{\"colorbar\":{\"outlinewidth\":0,\"ticks\":\"\"}}}],\"scatter3d\":[{\"type\":\"scatter3d\",\"line\":{\"colorbar\":{\"outlinewidth\":0,\"ticks\":\"\"}},\"marker\":{\"colorbar\":{\"outlinewidth\":0,\"ticks\":\"\"}}}],\"scattermapbox\":[{\"type\":\"scattermapbox\",\"marker\":{\"colorbar\":{\"outlinewidth\":0,\"ticks\":\"\"}}}],\"scatterternary\":[{\"type\":\"scatterternary\",\"marker\":{\"colorbar\":{\"outlinewidth\":0,\"ticks\":\"\"}}}],\"scattercarpet\":[{\"type\":\"scattercarpet\",\"marker\":{\"colorbar\":{\"outlinewidth\":0,\"ticks\":\"\"}}}],\"carpet\":[{\"aaxis\":{\"endlinecolor\":\"#2a3f5f\",\"gridcolor\":\"white\",\"linecolor\":\"white\",\"minorgridcolor\":\"white\",\"startlinecolor\":\"#2a3f5f\"},\"baxis\":{\"endlinecolor\":\"#2a3f5f\",\"gridcolor\":\"white\",\"linecolor\":\"white\",\"minorgridcolor\":\"white\",\"startlinecolor\":\"#2a3f5f\"},\"type\":\"carpet\"}],\"table\":[{\"cells\":{\"fill\":{\"color\":\"#EBF0F8\"},\"line\":{\"color\":\"white\"}},\"header\":{\"fill\":{\"color\":\"#C8D4E3\"},\"line\":{\"color\":\"white\"}},\"type\":\"table\"}],\"barpolar\":[{\"marker\":{\"line\":{\"color\":\"#E5ECF6\",\"width\":0.5},\"pattern\":{\"fillmode\":\"overlay\",\"size\":10,\"solidity\":0.2}},\"type\":\"barpolar\"}],\"pie\":[{\"automargin\":true,\"type\":\"pie\"}]},\"layout\":{\"autotypenumbers\":\"strict\",\"colorway\":[\"#636efa\",\"#EF553B\",\"#00cc96\",\"#ab63fa\",\"#FFA15A\",\"#19d3f3\",\"#FF6692\",\"#B6E880\",\"#FF97FF\",\"#FECB52\"],\"font\":{\"color\":\"#2a3f5f\"},\"hovermode\":\"closest\",\"hoverlabel\":{\"align\":\"left\"},\"paper_bgcolor\":\"white\",\"plot_bgcolor\":\"#E5ECF6\",\"polar\":{\"bgcolor\":\"#E5ECF6\",\"angularaxis\":{\"gridcolor\":\"white\",\"linecolor\":\"white\",\"ticks\":\"\"},\"radialaxis\":{\"gridcolor\":\"white\",\"linecolor\":\"white\",\"ticks\":\"\"}},\"ternary\":{\"bgcolor\":\"#E5ECF6\",\"aaxis\":{\"gridcolor\":\"white\",\"linecolor\":\"white\",\"ticks\":\"\"},\"baxis\":{\"gridcolor\":\"white\",\"linecolor\":\"white\",\"ticks\":\"\"},\"caxis\":{\"gridcolor\":\"white\",\"linecolor\":\"white\",\"ticks\":\"\"}},\"coloraxis\":{\"colorbar\":{\"outlinewidth\":0,\"ticks\":\"\"}},\"colorscale\":{\"sequential\":[[0.0,\"#0d0887\"],[0.1111111111111111,\"#46039f\"],[0.2222222222222222,\"#7201a8\"],[0.3333333333333333,\"#9c179e\"],[0.4444444444444444,\"#bd3786\"],[0.5555555555555556,\"#d8576b\"],[0.6666666666666666,\"#ed7953\"],[0.7777777777777778,\"#fb9f3a\"],[0.8888888888888888,\"#fdca26\"],[1.0,\"#f0f921\"]],\"sequentialminus\":[[0.0,\"#0d0887\"],[0.1111111111111111,\"#46039f\"],[0.2222222222222222,\"#7201a8\"],[0.3333333333333333,\"#9c179e\"],[0.4444444444444444,\"#bd3786\"],[0.5555555555555556,\"#d8576b\"],[0.6666666666666666,\"#ed7953\"],[0.7777777777777778,\"#fb9f3a\"],[0.8888888888888888,\"#fdca26\"],[1.0,\"#f0f921\"]],\"diverging\":[[0,\"#8e0152\"],[0.1,\"#c51b7d\"],[0.2,\"#de77ae\"],[0.3,\"#f1b6da\"],[0.4,\"#fde0ef\"],[0.5,\"#f7f7f7\"],[0.6,\"#e6f5d0\"],[0.7,\"#b8e186\"],[0.8,\"#7fbc41\"],[0.9,\"#4d9221\"],[1,\"#276419\"]]},\"xaxis\":{\"gridcolor\":\"white\",\"linecolor\":\"white\",\"ticks\":\"\",\"title\":{\"standoff\":15},\"zerolinecolor\":\"white\",\"automargin\":true,\"zerolinewidth\":2},\"yaxis\":{\"gridcolor\":\"white\",\"linecolor\":\"white\",\"ticks\":\"\",\"title\":{\"standoff\":15},\"zerolinecolor\":\"white\",\"automargin\":true,\"zerolinewidth\":2},\"scene\":{\"xaxis\":{\"backgroundcolor\":\"#E5ECF6\",\"gridcolor\":\"white\",\"linecolor\":\"white\",\"showbackground\":true,\"ticks\":\"\",\"zerolinecolor\":\"white\",\"gridwidth\":2},\"yaxis\":{\"backgroundcolor\":\"#E5ECF6\",\"gridcolor\":\"white\",\"linecolor\":\"white\",\"showbackground\":true,\"ticks\":\"\",\"zerolinecolor\":\"white\",\"gridwidth\":2},\"zaxis\":{\"backgroundcolor\":\"#E5ECF6\",\"gridcolor\":\"white\",\"linecolor\":\"white\",\"showbackground\":true,\"ticks\":\"\",\"zerolinecolor\":\"white\",\"gridwidth\":2}},\"shapedefaults\":{\"line\":{\"color\":\"#2a3f5f\"}},\"annotationdefaults\":{\"arrowcolor\":\"#2a3f5f\",\"arrowhead\":0,\"arrowwidth\":1},\"geo\":{\"bgcolor\":\"white\",\"landcolor\":\"#E5ECF6\",\"subunitcolor\":\"white\",\"showland\":true,\"showlakes\":true,\"lakecolor\":\"white\"},\"title\":{\"x\":0.05},\"mapbox\":{\"style\":\"light\"}}},\"xaxis\":{\"anchor\":\"y\",\"domain\":[0.0,1.0],\"title\":{\"text\":\"Stationing Plan\"},\"showgrid\":true,\"gridwidth\":0.2,\"gridcolor\":\"lightgrey\",\"showline\":true,\"linewidth\":1,\"linecolor\":\"black\",\"mirror\":true},\"yaxis\":{\"anchor\":\"x\",\"domain\":[0.0,1.0],\"title\":{\"text\":\"Deadhead kilometers\"},\"showgrid\":true,\"gridwidth\":0.2,\"gridcolor\":\"lightgrey\",\"showline\":true,\"linewidth\":1,\"linecolor\":\"black\",\"mirror\":true},\"legend\":{\"tracegroupgap\":0},\"title\":{\"text\":\"\"},\"margin\":{\"l\":5,\"r\":5,\"t\":5,\"b\":5},\"font\":{\"size\":18,\"color\":\"black\"},\"width\":800,\"height\":500,\"plot_bgcolor\":\"rgba(0, 0, 0, 0)\",\"paper_bgcolor\":\"rgba(0, 0, 0, 0)\"},                        {\"responsive\": true}                    ).then(function(){\n",
       "                            \n",
       "var gd = document.getElementById('a0cc9827-c891-4c84-bf0e-521a165cc393');\n",
       "var x = new MutationObserver(function (mutations, observer) {{\n",
       "        var display = window.getComputedStyle(gd).display;\n",
       "        if (!display || display === 'none') {{\n",
       "            console.log([gd, 'removed!']);\n",
       "            Plotly.purge(gd);\n",
       "            observer.disconnect();\n",
       "        }}\n",
       "}});\n",
       "\n",
       "// Listen for the removal of the full notebook cells\n",
       "var notebookContainer = gd.closest('#notebook-container');\n",
       "if (notebookContainer) {{\n",
       "    x.observe(notebookContainer, {childList: true});\n",
       "}}\n",
       "\n",
       "// Listen for the clearing of the current output cell\n",
       "var outputEl = gd.closest('.output');\n",
       "if (outputEl) {{\n",
       "    x.observe(outputEl, {childList: true});\n",
       "}}\n",
       "\n",
       "                        })                };                });            </script>        </div>"
      ]
     },
     "metadata": {},
     "output_type": "display_data"
    }
   ],
   "source": [
    "import plotly.express as px\n",
    "\n",
    "df.loc[1, \"method\"] = \"GARAGE\"\n",
    "sort_dict = {\"GARAGE\": 0, \"AGENCY\": 1, \"SEARCH\": 2, \"MCTS\": 3, \"MCTS_5\": 4}\n",
    "df = df.iloc[df[\"method\"].map(sort_dict).sort_values().index]\n",
    "\n",
    "fig = px.line(df, x=\"method\", y=\"mean\", error_y=\"std\", markers=True, title=\"Line Plot with Error Bars\")\n",
    "fig.update_traces(line={\"width\": 5})\n",
    "fig.data[0].error_y.thickness = 5\n",
    "fig.update_xaxes(showgrid=True, gridwidth=0.2, gridcolor=\"lightgrey\")\n",
    "fig.update_yaxes(showgrid=True, gridwidth=0.2, gridcolor=\"lightgrey\")\n",
    "fig.update_layout(\n",
    "    width=800,\n",
    "    height=500,\n",
    "    plot_bgcolor=\"rgba(0, 0, 0, 0)\",  # Transparent background\n",
    "    paper_bgcolor=\"rgba(0, 0, 0, 0)\",  # Transparent paper background\n",
    "    margin=dict(l=5, r=5, t=5, b=5),\n",
    "    title=\"\",\n",
    "    font=dict(\n",
    "        # family=\"Courier New, monospace\",\n",
    "        size=18,\n",
    "        color=\"black\",\n",
    "    ),\n",
    ")\n",
    "\n",
    "fig.update_xaxes(showline=True, linewidth=1, linecolor=\"black\", mirror=True)\n",
    "fig.update_yaxes(showline=True, linewidth=1, linecolor=\"black\", mirror=True)  # Change x and y-axis labels\n",
    "fig.update_xaxes(title_text=\"Stationing Plan\")\n",
    "fig.update_yaxes(title_text=\"Deadhead kilometers\")\n",
    "# fig.update_xaxes(categoryorder='array', categoryarray= ['GARAGE', 'AGENCY', 'SEARCH', 'MCTS', 'MCTS_5'])\n",
    "# fig.write_image(\"./plots/new_deadhead.pdf\")\n",
    "fig.show()"
   ]
  },
  {
   "cell_type": "code",
   "execution_count": 51,
   "metadata": {},
   "outputs": [],
   "source": [
    "df = pd.read_csv(\"/home/jpt/git/mta_simulator_redo/data_analysis/results/total_ons.csv\", index_col=0)\n",
    "df = df.reset_index()\n",
    "df = df.groupby(\"method\").agg({\"service_kms\": list}).reset_index()\n",
    "df[\"std\"] = df[\"service_kms\"].apply(lambda x: np.std(x))\n",
    "df[\"std\"] = df[\"std\"] / np.sqrt(len(MCTS_DATES))\n",
    "df[\"mean\"] = df[\"service_kms\"].apply(lambda x: np.mean(x))\n",
    "df = df.reset_index()\n",
    "df = df.drop(\"service_kms\", axis=1)\n",
    "a = df[df[\"method\"].isin([\"AGENCY\", \"BASELINE\", \"SEARCH\", \"MCTS\"])]\n",
    "a[\"type\"] = \"service_kms\""
   ]
  },
  {
   "cell_type": "code",
   "execution_count": 79,
   "metadata": {},
   "outputs": [
    {
     "data": {
      "text/html": [
       "<div>\n",
       "<style scoped>\n",
       "    .dataframe tbody tr th:only-of-type {\n",
       "        vertical-align: middle;\n",
       "    }\n",
       "\n",
       "    .dataframe tbody tr th {\n",
       "        vertical-align: top;\n",
       "    }\n",
       "\n",
       "    .dataframe thead th {\n",
       "        text-align: right;\n",
       "    }\n",
       "</style>\n",
       "<table border=\"1\" class=\"dataframe\">\n",
       "  <thead>\n",
       "    <tr style=\"text-align: right;\">\n",
       "      <th></th>\n",
       "      <th>index</th>\n",
       "      <th>method</th>\n",
       "      <th>std</th>\n",
       "      <th>mean</th>\n",
       "      <th>type</th>\n",
       "    </tr>\n",
       "  </thead>\n",
       "  <tbody>\n",
       "    <tr>\n",
       "      <th>0</th>\n",
       "      <td>0</td>\n",
       "      <td>AGENCY</td>\n",
       "      <td>25.694793</td>\n",
       "      <td>164.090909</td>\n",
       "      <td>total_served</td>\n",
       "    </tr>\n",
       "    <tr>\n",
       "      <th>1</th>\n",
       "      <td>1</td>\n",
       "      <td>BASELINE</td>\n",
       "      <td>25.694793</td>\n",
       "      <td>164.090909</td>\n",
       "      <td>total_served</td>\n",
       "    </tr>\n",
       "    <tr>\n",
       "      <th>2</th>\n",
       "      <td>2</td>\n",
       "      <td>MCTS</td>\n",
       "      <td>27.195483</td>\n",
       "      <td>171.090909</td>\n",
       "      <td>total_served</td>\n",
       "    </tr>\n",
       "    <tr>\n",
       "      <th>3</th>\n",
       "      <td>3</td>\n",
       "      <td>SEARCH</td>\n",
       "      <td>25.694793</td>\n",
       "      <td>164.090909</td>\n",
       "      <td>total_served</td>\n",
       "    </tr>\n",
       "    <tr>\n",
       "      <th>0</th>\n",
       "      <td>0</td>\n",
       "      <td>AGENCY</td>\n",
       "      <td>26.466707</td>\n",
       "      <td>198.724545</td>\n",
       "      <td>service_kms</td>\n",
       "    </tr>\n",
       "    <tr>\n",
       "      <th>1</th>\n",
       "      <td>1</td>\n",
       "      <td>BASELINE</td>\n",
       "      <td>26.698496</td>\n",
       "      <td>204.841818</td>\n",
       "      <td>service_kms</td>\n",
       "    </tr>\n",
       "    <tr>\n",
       "      <th>2</th>\n",
       "      <td>2</td>\n",
       "      <td>MCTS</td>\n",
       "      <td>24.627822</td>\n",
       "      <td>142.323636</td>\n",
       "      <td>service_kms</td>\n",
       "    </tr>\n",
       "    <tr>\n",
       "      <th>3</th>\n",
       "      <td>3</td>\n",
       "      <td>SEARCH</td>\n",
       "      <td>26.603135</td>\n",
       "      <td>195.343636</td>\n",
       "      <td>service_kms</td>\n",
       "    </tr>\n",
       "  </tbody>\n",
       "</table>\n",
       "</div>"
      ],
      "text/plain": [
       "   index    method        std        mean          type\n",
       "0      0    AGENCY  25.694793  164.090909  total_served\n",
       "1      1  BASELINE  25.694793  164.090909  total_served\n",
       "2      2      MCTS  27.195483  171.090909  total_served\n",
       "3      3    SEARCH  25.694793  164.090909  total_served\n",
       "0      0    AGENCY  26.466707  198.724545   service_kms\n",
       "1      1  BASELINE  26.698496  204.841818   service_kms\n",
       "2      2      MCTS  24.627822  142.323636   service_kms\n",
       "3      3    SEARCH  26.603135  195.343636   service_kms"
      ]
     },
     "execution_count": 79,
     "metadata": {},
     "output_type": "execute_result"
    }
   ],
   "source": [
    "df = pd.read_csv(\"/home/jpt/git/mta_simulator_redo/data_analysis/results/total_ons.csv\", index_col=0)\n",
    "df = df.reset_index()\n",
    "df = df.groupby(\"method\").agg({\"total_served\": list}).reset_index()\n",
    "df[\"std\"] = df[\"total_served\"].apply(lambda x: np.std(x))\n",
    "df[\"std\"] = df[\"std\"] / np.sqrt(len(MCTS_DATES))\n",
    "df[\"mean\"] = df[\"total_served\"].apply(lambda x: np.mean(x))\n",
    "df = df.reset_index()\n",
    "df = df.drop(\"total_served\", axis=1)\n",
    "b = df[df[\"method\"].isin([\"AGENCY\", \"BASELINE\", \"SEARCH\", \"MCTS\"])]\n",
    "b[\"type\"] = \"total_served\"\n",
    "df = pd.concat([b, a])\n",
    "df"
   ]
  },
  {
   "cell_type": "code",
   "execution_count": 80,
   "metadata": {},
   "outputs": [
    {
     "data": {
      "text/html": [
       "<div>\n",
       "<style scoped>\n",
       "    .dataframe tbody tr th:only-of-type {\n",
       "        vertical-align: middle;\n",
       "    }\n",
       "\n",
       "    .dataframe tbody tr th {\n",
       "        vertical-align: top;\n",
       "    }\n",
       "\n",
       "    .dataframe thead th {\n",
       "        text-align: right;\n",
       "    }\n",
       "</style>\n",
       "<table border=\"1\" class=\"dataframe\">\n",
       "  <thead>\n",
       "    <tr style=\"text-align: right;\">\n",
       "      <th></th>\n",
       "      <th>index</th>\n",
       "      <th>method</th>\n",
       "      <th>std</th>\n",
       "      <th>mean</th>\n",
       "      <th>type</th>\n",
       "    </tr>\n",
       "  </thead>\n",
       "  <tbody>\n",
       "    <tr>\n",
       "      <th>1</th>\n",
       "      <td>1</td>\n",
       "      <td>BASELINE</td>\n",
       "      <td>25.694793</td>\n",
       "      <td>164.090909</td>\n",
       "      <td>total_served</td>\n",
       "    </tr>\n",
       "    <tr>\n",
       "      <th>0</th>\n",
       "      <td>0</td>\n",
       "      <td>AGENCY</td>\n",
       "      <td>25.694793</td>\n",
       "      <td>164.090909</td>\n",
       "      <td>total_served</td>\n",
       "    </tr>\n",
       "    <tr>\n",
       "      <th>3</th>\n",
       "      <td>3</td>\n",
       "      <td>SEARCH</td>\n",
       "      <td>25.694793</td>\n",
       "      <td>164.090909</td>\n",
       "      <td>total_served</td>\n",
       "    </tr>\n",
       "    <tr>\n",
       "      <th>2</th>\n",
       "      <td>2</td>\n",
       "      <td>MCTS</td>\n",
       "      <td>27.195483</td>\n",
       "      <td>171.090909</td>\n",
       "      <td>total_served</td>\n",
       "    </tr>\n",
       "  </tbody>\n",
       "</table>\n",
       "</div>"
      ],
      "text/plain": [
       "   index    method        std        mean          type\n",
       "1      1  BASELINE  25.694793  164.090909  total_served\n",
       "0      0    AGENCY  25.694793  164.090909  total_served\n",
       "3      3    SEARCH  25.694793  164.090909  total_served\n",
       "2      2      MCTS  27.195483  171.090909  total_served"
      ]
     },
     "metadata": {},
     "output_type": "display_data"
    },
    {
     "data": {
      "application/vnd.plotly.v1+json": {
       "config": {
        "plotlyServerURL": "https://plot.ly"
       },
       "data": [
        {
         "error_y": {
          "array": [
           25.694793036354014,
           25.694793036354014,
           25.694793036354014,
           27.195482897119387
          ],
          "thickness": 5
         },
         "hovertemplate": "method=%{x}<br>mean=%{y}<extra></extra>",
         "legendgroup": "",
         "line": {
          "color": "#636efa",
          "dash": "solid",
          "width": 5
         },
         "marker": {
          "symbol": "circle"
         },
         "mode": "lines+markers",
         "name": "",
         "orientation": "v",
         "showlegend": false,
         "type": "scatter",
         "x": [
          "BASELINE",
          "AGENCY",
          "SEARCH",
          "MCTS"
         ],
         "xaxis": "x",
         "y": [
          164.0909090909091,
          164.0909090909091,
          164.0909090909091,
          171.0909090909091
         ],
         "yaxis": "y"
        }
       ],
       "layout": {
        "annotations": [
         {
          "showarrow": false,
          "text": "Stationing Plans",
          "x": 0.5,
          "xanchor": "center",
          "xref": "paper",
          "y": -0.15,
          "yref": "paper"
         }
        ],
        "font": {
         "color": "black",
         "size": 18
        },
        "height": 500,
        "legend": {
         "tracegroupgap": 0
        },
        "margin": {
         "b": 5,
         "l": 5,
         "r": 5,
         "t": 5
        },
        "paper_bgcolor": "rgba(0, 0, 0, 0)",
        "plot_bgcolor": "rgba(0, 0, 0, 0)",
        "template": {
         "data": {
          "bar": [
           {
            "error_x": {
             "color": "#2a3f5f"
            },
            "error_y": {
             "color": "#2a3f5f"
            },
            "marker": {
             "line": {
              "color": "#E5ECF6",
              "width": 0.5
             },
             "pattern": {
              "fillmode": "overlay",
              "size": 10,
              "solidity": 0.2
             }
            },
            "type": "bar"
           }
          ],
          "barpolar": [
           {
            "marker": {
             "line": {
              "color": "#E5ECF6",
              "width": 0.5
             },
             "pattern": {
              "fillmode": "overlay",
              "size": 10,
              "solidity": 0.2
             }
            },
            "type": "barpolar"
           }
          ],
          "carpet": [
           {
            "aaxis": {
             "endlinecolor": "#2a3f5f",
             "gridcolor": "white",
             "linecolor": "white",
             "minorgridcolor": "white",
             "startlinecolor": "#2a3f5f"
            },
            "baxis": {
             "endlinecolor": "#2a3f5f",
             "gridcolor": "white",
             "linecolor": "white",
             "minorgridcolor": "white",
             "startlinecolor": "#2a3f5f"
            },
            "type": "carpet"
           }
          ],
          "choropleth": [
           {
            "colorbar": {
             "outlinewidth": 0,
             "ticks": ""
            },
            "type": "choropleth"
           }
          ],
          "contour": [
           {
            "colorbar": {
             "outlinewidth": 0,
             "ticks": ""
            },
            "colorscale": [
             [
              0,
              "#0d0887"
             ],
             [
              0.1111111111111111,
              "#46039f"
             ],
             [
              0.2222222222222222,
              "#7201a8"
             ],
             [
              0.3333333333333333,
              "#9c179e"
             ],
             [
              0.4444444444444444,
              "#bd3786"
             ],
             [
              0.5555555555555556,
              "#d8576b"
             ],
             [
              0.6666666666666666,
              "#ed7953"
             ],
             [
              0.7777777777777778,
              "#fb9f3a"
             ],
             [
              0.8888888888888888,
              "#fdca26"
             ],
             [
              1,
              "#f0f921"
             ]
            ],
            "type": "contour"
           }
          ],
          "contourcarpet": [
           {
            "colorbar": {
             "outlinewidth": 0,
             "ticks": ""
            },
            "type": "contourcarpet"
           }
          ],
          "heatmap": [
           {
            "colorbar": {
             "outlinewidth": 0,
             "ticks": ""
            },
            "colorscale": [
             [
              0,
              "#0d0887"
             ],
             [
              0.1111111111111111,
              "#46039f"
             ],
             [
              0.2222222222222222,
              "#7201a8"
             ],
             [
              0.3333333333333333,
              "#9c179e"
             ],
             [
              0.4444444444444444,
              "#bd3786"
             ],
             [
              0.5555555555555556,
              "#d8576b"
             ],
             [
              0.6666666666666666,
              "#ed7953"
             ],
             [
              0.7777777777777778,
              "#fb9f3a"
             ],
             [
              0.8888888888888888,
              "#fdca26"
             ],
             [
              1,
              "#f0f921"
             ]
            ],
            "type": "heatmap"
           }
          ],
          "heatmapgl": [
           {
            "colorbar": {
             "outlinewidth": 0,
             "ticks": ""
            },
            "colorscale": [
             [
              0,
              "#0d0887"
             ],
             [
              0.1111111111111111,
              "#46039f"
             ],
             [
              0.2222222222222222,
              "#7201a8"
             ],
             [
              0.3333333333333333,
              "#9c179e"
             ],
             [
              0.4444444444444444,
              "#bd3786"
             ],
             [
              0.5555555555555556,
              "#d8576b"
             ],
             [
              0.6666666666666666,
              "#ed7953"
             ],
             [
              0.7777777777777778,
              "#fb9f3a"
             ],
             [
              0.8888888888888888,
              "#fdca26"
             ],
             [
              1,
              "#f0f921"
             ]
            ],
            "type": "heatmapgl"
           }
          ],
          "histogram": [
           {
            "marker": {
             "pattern": {
              "fillmode": "overlay",
              "size": 10,
              "solidity": 0.2
             }
            },
            "type": "histogram"
           }
          ],
          "histogram2d": [
           {
            "colorbar": {
             "outlinewidth": 0,
             "ticks": ""
            },
            "colorscale": [
             [
              0,
              "#0d0887"
             ],
             [
              0.1111111111111111,
              "#46039f"
             ],
             [
              0.2222222222222222,
              "#7201a8"
             ],
             [
              0.3333333333333333,
              "#9c179e"
             ],
             [
              0.4444444444444444,
              "#bd3786"
             ],
             [
              0.5555555555555556,
              "#d8576b"
             ],
             [
              0.6666666666666666,
              "#ed7953"
             ],
             [
              0.7777777777777778,
              "#fb9f3a"
             ],
             [
              0.8888888888888888,
              "#fdca26"
             ],
             [
              1,
              "#f0f921"
             ]
            ],
            "type": "histogram2d"
           }
          ],
          "histogram2dcontour": [
           {
            "colorbar": {
             "outlinewidth": 0,
             "ticks": ""
            },
            "colorscale": [
             [
              0,
              "#0d0887"
             ],
             [
              0.1111111111111111,
              "#46039f"
             ],
             [
              0.2222222222222222,
              "#7201a8"
             ],
             [
              0.3333333333333333,
              "#9c179e"
             ],
             [
              0.4444444444444444,
              "#bd3786"
             ],
             [
              0.5555555555555556,
              "#d8576b"
             ],
             [
              0.6666666666666666,
              "#ed7953"
             ],
             [
              0.7777777777777778,
              "#fb9f3a"
             ],
             [
              0.8888888888888888,
              "#fdca26"
             ],
             [
              1,
              "#f0f921"
             ]
            ],
            "type": "histogram2dcontour"
           }
          ],
          "mesh3d": [
           {
            "colorbar": {
             "outlinewidth": 0,
             "ticks": ""
            },
            "type": "mesh3d"
           }
          ],
          "parcoords": [
           {
            "line": {
             "colorbar": {
              "outlinewidth": 0,
              "ticks": ""
             }
            },
            "type": "parcoords"
           }
          ],
          "pie": [
           {
            "automargin": true,
            "type": "pie"
           }
          ],
          "scatter": [
           {
            "fillpattern": {
             "fillmode": "overlay",
             "size": 10,
             "solidity": 0.2
            },
            "type": "scatter"
           }
          ],
          "scatter3d": [
           {
            "line": {
             "colorbar": {
              "outlinewidth": 0,
              "ticks": ""
             }
            },
            "marker": {
             "colorbar": {
              "outlinewidth": 0,
              "ticks": ""
             }
            },
            "type": "scatter3d"
           }
          ],
          "scattercarpet": [
           {
            "marker": {
             "colorbar": {
              "outlinewidth": 0,
              "ticks": ""
             }
            },
            "type": "scattercarpet"
           }
          ],
          "scattergeo": [
           {
            "marker": {
             "colorbar": {
              "outlinewidth": 0,
              "ticks": ""
             }
            },
            "type": "scattergeo"
           }
          ],
          "scattergl": [
           {
            "marker": {
             "colorbar": {
              "outlinewidth": 0,
              "ticks": ""
             }
            },
            "type": "scattergl"
           }
          ],
          "scattermapbox": [
           {
            "marker": {
             "colorbar": {
              "outlinewidth": 0,
              "ticks": ""
             }
            },
            "type": "scattermapbox"
           }
          ],
          "scatterpolar": [
           {
            "marker": {
             "colorbar": {
              "outlinewidth": 0,
              "ticks": ""
             }
            },
            "type": "scatterpolar"
           }
          ],
          "scatterpolargl": [
           {
            "marker": {
             "colorbar": {
              "outlinewidth": 0,
              "ticks": ""
             }
            },
            "type": "scatterpolargl"
           }
          ],
          "scatterternary": [
           {
            "marker": {
             "colorbar": {
              "outlinewidth": 0,
              "ticks": ""
             }
            },
            "type": "scatterternary"
           }
          ],
          "surface": [
           {
            "colorbar": {
             "outlinewidth": 0,
             "ticks": ""
            },
            "colorscale": [
             [
              0,
              "#0d0887"
             ],
             [
              0.1111111111111111,
              "#46039f"
             ],
             [
              0.2222222222222222,
              "#7201a8"
             ],
             [
              0.3333333333333333,
              "#9c179e"
             ],
             [
              0.4444444444444444,
              "#bd3786"
             ],
             [
              0.5555555555555556,
              "#d8576b"
             ],
             [
              0.6666666666666666,
              "#ed7953"
             ],
             [
              0.7777777777777778,
              "#fb9f3a"
             ],
             [
              0.8888888888888888,
              "#fdca26"
             ],
             [
              1,
              "#f0f921"
             ]
            ],
            "type": "surface"
           }
          ],
          "table": [
           {
            "cells": {
             "fill": {
              "color": "#EBF0F8"
             },
             "line": {
              "color": "white"
             }
            },
            "header": {
             "fill": {
              "color": "#C8D4E3"
             },
             "line": {
              "color": "white"
             }
            },
            "type": "table"
           }
          ]
         },
         "layout": {
          "annotationdefaults": {
           "arrowcolor": "#2a3f5f",
           "arrowhead": 0,
           "arrowwidth": 1
          },
          "autotypenumbers": "strict",
          "coloraxis": {
           "colorbar": {
            "outlinewidth": 0,
            "ticks": ""
           }
          },
          "colorscale": {
           "diverging": [
            [
             0,
             "#8e0152"
            ],
            [
             0.1,
             "#c51b7d"
            ],
            [
             0.2,
             "#de77ae"
            ],
            [
             0.3,
             "#f1b6da"
            ],
            [
             0.4,
             "#fde0ef"
            ],
            [
             0.5,
             "#f7f7f7"
            ],
            [
             0.6,
             "#e6f5d0"
            ],
            [
             0.7,
             "#b8e186"
            ],
            [
             0.8,
             "#7fbc41"
            ],
            [
             0.9,
             "#4d9221"
            ],
            [
             1,
             "#276419"
            ]
           ],
           "sequential": [
            [
             0,
             "#0d0887"
            ],
            [
             0.1111111111111111,
             "#46039f"
            ],
            [
             0.2222222222222222,
             "#7201a8"
            ],
            [
             0.3333333333333333,
             "#9c179e"
            ],
            [
             0.4444444444444444,
             "#bd3786"
            ],
            [
             0.5555555555555556,
             "#d8576b"
            ],
            [
             0.6666666666666666,
             "#ed7953"
            ],
            [
             0.7777777777777778,
             "#fb9f3a"
            ],
            [
             0.8888888888888888,
             "#fdca26"
            ],
            [
             1,
             "#f0f921"
            ]
           ],
           "sequentialminus": [
            [
             0,
             "#0d0887"
            ],
            [
             0.1111111111111111,
             "#46039f"
            ],
            [
             0.2222222222222222,
             "#7201a8"
            ],
            [
             0.3333333333333333,
             "#9c179e"
            ],
            [
             0.4444444444444444,
             "#bd3786"
            ],
            [
             0.5555555555555556,
             "#d8576b"
            ],
            [
             0.6666666666666666,
             "#ed7953"
            ],
            [
             0.7777777777777778,
             "#fb9f3a"
            ],
            [
             0.8888888888888888,
             "#fdca26"
            ],
            [
             1,
             "#f0f921"
            ]
           ]
          },
          "colorway": [
           "#636efa",
           "#EF553B",
           "#00cc96",
           "#ab63fa",
           "#FFA15A",
           "#19d3f3",
           "#FF6692",
           "#B6E880",
           "#FF97FF",
           "#FECB52"
          ],
          "font": {
           "color": "#2a3f5f"
          },
          "geo": {
           "bgcolor": "white",
           "lakecolor": "white",
           "landcolor": "#E5ECF6",
           "showlakes": true,
           "showland": true,
           "subunitcolor": "white"
          },
          "hoverlabel": {
           "align": "left"
          },
          "hovermode": "closest",
          "mapbox": {
           "style": "light"
          },
          "paper_bgcolor": "white",
          "plot_bgcolor": "#E5ECF6",
          "polar": {
           "angularaxis": {
            "gridcolor": "white",
            "linecolor": "white",
            "ticks": ""
           },
           "bgcolor": "#E5ECF6",
           "radialaxis": {
            "gridcolor": "white",
            "linecolor": "white",
            "ticks": ""
           }
          },
          "scene": {
           "xaxis": {
            "backgroundcolor": "#E5ECF6",
            "gridcolor": "white",
            "gridwidth": 2,
            "linecolor": "white",
            "showbackground": true,
            "ticks": "",
            "zerolinecolor": "white"
           },
           "yaxis": {
            "backgroundcolor": "#E5ECF6",
            "gridcolor": "white",
            "gridwidth": 2,
            "linecolor": "white",
            "showbackground": true,
            "ticks": "",
            "zerolinecolor": "white"
           },
           "zaxis": {
            "backgroundcolor": "#E5ECF6",
            "gridcolor": "white",
            "gridwidth": 2,
            "linecolor": "white",
            "showbackground": true,
            "ticks": "",
            "zerolinecolor": "white"
           }
          },
          "shapedefaults": {
           "line": {
            "color": "#2a3f5f"
           }
          },
          "ternary": {
           "aaxis": {
            "gridcolor": "white",
            "linecolor": "white",
            "ticks": ""
           },
           "baxis": {
            "gridcolor": "white",
            "linecolor": "white",
            "ticks": ""
           },
           "bgcolor": "#E5ECF6",
           "caxis": {
            "gridcolor": "white",
            "linecolor": "white",
            "ticks": ""
           }
          },
          "title": {
           "x": 0.05
          },
          "xaxis": {
           "automargin": true,
           "gridcolor": "white",
           "linecolor": "white",
           "ticks": "",
           "title": {
            "standoff": 15
           },
           "zerolinecolor": "white",
           "zerolinewidth": 2
          },
          "yaxis": {
           "automargin": true,
           "gridcolor": "white",
           "linecolor": "white",
           "ticks": "",
           "title": {
            "standoff": 15
           },
           "zerolinecolor": "white",
           "zerolinewidth": 2
          }
         }
        },
        "title": {
         "text": ""
        },
        "width": 600,
        "xaxis": {
         "anchor": "y",
         "domain": [
          0,
          1
         ],
         "gridcolor": "lightgrey",
         "gridwidth": 0.2,
         "linecolor": "black",
         "linewidth": 1,
         "mirror": true,
         "showgrid": true,
         "showline": true,
         "title": {
          "text": ""
         }
        },
        "yaxis": {
         "anchor": "x",
         "domain": [
          0,
          1
         ],
         "gridcolor": "lightgrey",
         "gridwidth": 0.2,
         "linecolor": "black",
         "linewidth": 1,
         "mirror": true,
         "showgrid": true,
         "showline": true,
         "title": {
          "text": "Mean passengers served<br>by substitute buses"
         }
        }
       }
      },
      "text/html": [
       "<div>                            <div id=\"d81bcccd-6268-4d4b-92d4-1c7e719fe704\" class=\"plotly-graph-div\" style=\"height:500px; width:600px;\"></div>            <script type=\"text/javascript\">                require([\"plotly\"], function(Plotly) {                    window.PLOTLYENV=window.PLOTLYENV || {};                                    if (document.getElementById(\"d81bcccd-6268-4d4b-92d4-1c7e719fe704\")) {                    Plotly.newPlot(                        \"d81bcccd-6268-4d4b-92d4-1c7e719fe704\",                        [{\"error_y\":{\"array\":[25.694793036354014,25.694793036354014,25.694793036354014,27.195482897119387],\"thickness\":5},\"hovertemplate\":\"method=%{x}\\u003cbr\\u003emean=%{y}\\u003cextra\\u003e\\u003c\\u002fextra\\u003e\",\"legendgroup\":\"\",\"line\":{\"color\":\"#636efa\",\"dash\":\"solid\",\"width\":5},\"marker\":{\"symbol\":\"circle\"},\"mode\":\"lines+markers\",\"name\":\"\",\"orientation\":\"v\",\"showlegend\":false,\"x\":[\"BASELINE\",\"AGENCY\",\"SEARCH\",\"MCTS\"],\"xaxis\":\"x\",\"y\":[164.0909090909091,164.0909090909091,164.0909090909091,171.0909090909091],\"yaxis\":\"y\",\"type\":\"scatter\"}],                        {\"template\":{\"data\":{\"histogram2dcontour\":[{\"type\":\"histogram2dcontour\",\"colorbar\":{\"outlinewidth\":0,\"ticks\":\"\"},\"colorscale\":[[0.0,\"#0d0887\"],[0.1111111111111111,\"#46039f\"],[0.2222222222222222,\"#7201a8\"],[0.3333333333333333,\"#9c179e\"],[0.4444444444444444,\"#bd3786\"],[0.5555555555555556,\"#d8576b\"],[0.6666666666666666,\"#ed7953\"],[0.7777777777777778,\"#fb9f3a\"],[0.8888888888888888,\"#fdca26\"],[1.0,\"#f0f921\"]]}],\"choropleth\":[{\"type\":\"choropleth\",\"colorbar\":{\"outlinewidth\":0,\"ticks\":\"\"}}],\"histogram2d\":[{\"type\":\"histogram2d\",\"colorbar\":{\"outlinewidth\":0,\"ticks\":\"\"},\"colorscale\":[[0.0,\"#0d0887\"],[0.1111111111111111,\"#46039f\"],[0.2222222222222222,\"#7201a8\"],[0.3333333333333333,\"#9c179e\"],[0.4444444444444444,\"#bd3786\"],[0.5555555555555556,\"#d8576b\"],[0.6666666666666666,\"#ed7953\"],[0.7777777777777778,\"#fb9f3a\"],[0.8888888888888888,\"#fdca26\"],[1.0,\"#f0f921\"]]}],\"heatmap\":[{\"type\":\"heatmap\",\"colorbar\":{\"outlinewidth\":0,\"ticks\":\"\"},\"colorscale\":[[0.0,\"#0d0887\"],[0.1111111111111111,\"#46039f\"],[0.2222222222222222,\"#7201a8\"],[0.3333333333333333,\"#9c179e\"],[0.4444444444444444,\"#bd3786\"],[0.5555555555555556,\"#d8576b\"],[0.6666666666666666,\"#ed7953\"],[0.7777777777777778,\"#fb9f3a\"],[0.8888888888888888,\"#fdca26\"],[1.0,\"#f0f921\"]]}],\"heatmapgl\":[{\"type\":\"heatmapgl\",\"colorbar\":{\"outlinewidth\":0,\"ticks\":\"\"},\"colorscale\":[[0.0,\"#0d0887\"],[0.1111111111111111,\"#46039f\"],[0.2222222222222222,\"#7201a8\"],[0.3333333333333333,\"#9c179e\"],[0.4444444444444444,\"#bd3786\"],[0.5555555555555556,\"#d8576b\"],[0.6666666666666666,\"#ed7953\"],[0.7777777777777778,\"#fb9f3a\"],[0.8888888888888888,\"#fdca26\"],[1.0,\"#f0f921\"]]}],\"contourcarpet\":[{\"type\":\"contourcarpet\",\"colorbar\":{\"outlinewidth\":0,\"ticks\":\"\"}}],\"contour\":[{\"type\":\"contour\",\"colorbar\":{\"outlinewidth\":0,\"ticks\":\"\"},\"colorscale\":[[0.0,\"#0d0887\"],[0.1111111111111111,\"#46039f\"],[0.2222222222222222,\"#7201a8\"],[0.3333333333333333,\"#9c179e\"],[0.4444444444444444,\"#bd3786\"],[0.5555555555555556,\"#d8576b\"],[0.6666666666666666,\"#ed7953\"],[0.7777777777777778,\"#fb9f3a\"],[0.8888888888888888,\"#fdca26\"],[1.0,\"#f0f921\"]]}],\"surface\":[{\"type\":\"surface\",\"colorbar\":{\"outlinewidth\":0,\"ticks\":\"\"},\"colorscale\":[[0.0,\"#0d0887\"],[0.1111111111111111,\"#46039f\"],[0.2222222222222222,\"#7201a8\"],[0.3333333333333333,\"#9c179e\"],[0.4444444444444444,\"#bd3786\"],[0.5555555555555556,\"#d8576b\"],[0.6666666666666666,\"#ed7953\"],[0.7777777777777778,\"#fb9f3a\"],[0.8888888888888888,\"#fdca26\"],[1.0,\"#f0f921\"]]}],\"mesh3d\":[{\"type\":\"mesh3d\",\"colorbar\":{\"outlinewidth\":0,\"ticks\":\"\"}}],\"scatter\":[{\"fillpattern\":{\"fillmode\":\"overlay\",\"size\":10,\"solidity\":0.2},\"type\":\"scatter\"}],\"parcoords\":[{\"type\":\"parcoords\",\"line\":{\"colorbar\":{\"outlinewidth\":0,\"ticks\":\"\"}}}],\"scatterpolargl\":[{\"type\":\"scatterpolargl\",\"marker\":{\"colorbar\":{\"outlinewidth\":0,\"ticks\":\"\"}}}],\"bar\":[{\"error_x\":{\"color\":\"#2a3f5f\"},\"error_y\":{\"color\":\"#2a3f5f\"},\"marker\":{\"line\":{\"color\":\"#E5ECF6\",\"width\":0.5},\"pattern\":{\"fillmode\":\"overlay\",\"size\":10,\"solidity\":0.2}},\"type\":\"bar\"}],\"scattergeo\":[{\"type\":\"scattergeo\",\"marker\":{\"colorbar\":{\"outlinewidth\":0,\"ticks\":\"\"}}}],\"scatterpolar\":[{\"type\":\"scatterpolar\",\"marker\":{\"colorbar\":{\"outlinewidth\":0,\"ticks\":\"\"}}}],\"histogram\":[{\"marker\":{\"pattern\":{\"fillmode\":\"overlay\",\"size\":10,\"solidity\":0.2}},\"type\":\"histogram\"}],\"scattergl\":[{\"type\":\"scattergl\",\"marker\":{\"colorbar\":{\"outlinewidth\":0,\"ticks\":\"\"}}}],\"scatter3d\":[{\"type\":\"scatter3d\",\"line\":{\"colorbar\":{\"outlinewidth\":0,\"ticks\":\"\"}},\"marker\":{\"colorbar\":{\"outlinewidth\":0,\"ticks\":\"\"}}}],\"scattermapbox\":[{\"type\":\"scattermapbox\",\"marker\":{\"colorbar\":{\"outlinewidth\":0,\"ticks\":\"\"}}}],\"scatterternary\":[{\"type\":\"scatterternary\",\"marker\":{\"colorbar\":{\"outlinewidth\":0,\"ticks\":\"\"}}}],\"scattercarpet\":[{\"type\":\"scattercarpet\",\"marker\":{\"colorbar\":{\"outlinewidth\":0,\"ticks\":\"\"}}}],\"carpet\":[{\"aaxis\":{\"endlinecolor\":\"#2a3f5f\",\"gridcolor\":\"white\",\"linecolor\":\"white\",\"minorgridcolor\":\"white\",\"startlinecolor\":\"#2a3f5f\"},\"baxis\":{\"endlinecolor\":\"#2a3f5f\",\"gridcolor\":\"white\",\"linecolor\":\"white\",\"minorgridcolor\":\"white\",\"startlinecolor\":\"#2a3f5f\"},\"type\":\"carpet\"}],\"table\":[{\"cells\":{\"fill\":{\"color\":\"#EBF0F8\"},\"line\":{\"color\":\"white\"}},\"header\":{\"fill\":{\"color\":\"#C8D4E3\"},\"line\":{\"color\":\"white\"}},\"type\":\"table\"}],\"barpolar\":[{\"marker\":{\"line\":{\"color\":\"#E5ECF6\",\"width\":0.5},\"pattern\":{\"fillmode\":\"overlay\",\"size\":10,\"solidity\":0.2}},\"type\":\"barpolar\"}],\"pie\":[{\"automargin\":true,\"type\":\"pie\"}]},\"layout\":{\"autotypenumbers\":\"strict\",\"colorway\":[\"#636efa\",\"#EF553B\",\"#00cc96\",\"#ab63fa\",\"#FFA15A\",\"#19d3f3\",\"#FF6692\",\"#B6E880\",\"#FF97FF\",\"#FECB52\"],\"font\":{\"color\":\"#2a3f5f\"},\"hovermode\":\"closest\",\"hoverlabel\":{\"align\":\"left\"},\"paper_bgcolor\":\"white\",\"plot_bgcolor\":\"#E5ECF6\",\"polar\":{\"bgcolor\":\"#E5ECF6\",\"angularaxis\":{\"gridcolor\":\"white\",\"linecolor\":\"white\",\"ticks\":\"\"},\"radialaxis\":{\"gridcolor\":\"white\",\"linecolor\":\"white\",\"ticks\":\"\"}},\"ternary\":{\"bgcolor\":\"#E5ECF6\",\"aaxis\":{\"gridcolor\":\"white\",\"linecolor\":\"white\",\"ticks\":\"\"},\"baxis\":{\"gridcolor\":\"white\",\"linecolor\":\"white\",\"ticks\":\"\"},\"caxis\":{\"gridcolor\":\"white\",\"linecolor\":\"white\",\"ticks\":\"\"}},\"coloraxis\":{\"colorbar\":{\"outlinewidth\":0,\"ticks\":\"\"}},\"colorscale\":{\"sequential\":[[0.0,\"#0d0887\"],[0.1111111111111111,\"#46039f\"],[0.2222222222222222,\"#7201a8\"],[0.3333333333333333,\"#9c179e\"],[0.4444444444444444,\"#bd3786\"],[0.5555555555555556,\"#d8576b\"],[0.6666666666666666,\"#ed7953\"],[0.7777777777777778,\"#fb9f3a\"],[0.8888888888888888,\"#fdca26\"],[1.0,\"#f0f921\"]],\"sequentialminus\":[[0.0,\"#0d0887\"],[0.1111111111111111,\"#46039f\"],[0.2222222222222222,\"#7201a8\"],[0.3333333333333333,\"#9c179e\"],[0.4444444444444444,\"#bd3786\"],[0.5555555555555556,\"#d8576b\"],[0.6666666666666666,\"#ed7953\"],[0.7777777777777778,\"#fb9f3a\"],[0.8888888888888888,\"#fdca26\"],[1.0,\"#f0f921\"]],\"diverging\":[[0,\"#8e0152\"],[0.1,\"#c51b7d\"],[0.2,\"#de77ae\"],[0.3,\"#f1b6da\"],[0.4,\"#fde0ef\"],[0.5,\"#f7f7f7\"],[0.6,\"#e6f5d0\"],[0.7,\"#b8e186\"],[0.8,\"#7fbc41\"],[0.9,\"#4d9221\"],[1,\"#276419\"]]},\"xaxis\":{\"gridcolor\":\"white\",\"linecolor\":\"white\",\"ticks\":\"\",\"title\":{\"standoff\":15},\"zerolinecolor\":\"white\",\"automargin\":true,\"zerolinewidth\":2},\"yaxis\":{\"gridcolor\":\"white\",\"linecolor\":\"white\",\"ticks\":\"\",\"title\":{\"standoff\":15},\"zerolinecolor\":\"white\",\"automargin\":true,\"zerolinewidth\":2},\"scene\":{\"xaxis\":{\"backgroundcolor\":\"#E5ECF6\",\"gridcolor\":\"white\",\"linecolor\":\"white\",\"showbackground\":true,\"ticks\":\"\",\"zerolinecolor\":\"white\",\"gridwidth\":2},\"yaxis\":{\"backgroundcolor\":\"#E5ECF6\",\"gridcolor\":\"white\",\"linecolor\":\"white\",\"showbackground\":true,\"ticks\":\"\",\"zerolinecolor\":\"white\",\"gridwidth\":2},\"zaxis\":{\"backgroundcolor\":\"#E5ECF6\",\"gridcolor\":\"white\",\"linecolor\":\"white\",\"showbackground\":true,\"ticks\":\"\",\"zerolinecolor\":\"white\",\"gridwidth\":2}},\"shapedefaults\":{\"line\":{\"color\":\"#2a3f5f\"}},\"annotationdefaults\":{\"arrowcolor\":\"#2a3f5f\",\"arrowhead\":0,\"arrowwidth\":1},\"geo\":{\"bgcolor\":\"white\",\"landcolor\":\"#E5ECF6\",\"subunitcolor\":\"white\",\"showland\":true,\"showlakes\":true,\"lakecolor\":\"white\"},\"title\":{\"x\":0.05},\"mapbox\":{\"style\":\"light\"}}},\"xaxis\":{\"anchor\":\"y\",\"domain\":[0.0,1.0],\"title\":{\"text\":\"\"},\"showgrid\":true,\"gridwidth\":0.2,\"gridcolor\":\"lightgrey\",\"showline\":true,\"linewidth\":1,\"linecolor\":\"black\",\"mirror\":true},\"yaxis\":{\"anchor\":\"x\",\"domain\":[0.0,1.0],\"title\":{\"text\":\"Mean passengers served\\u003cbr\\u003eby substitute buses\"},\"showgrid\":true,\"gridwidth\":0.2,\"gridcolor\":\"lightgrey\",\"showline\":true,\"linewidth\":1,\"linecolor\":\"black\",\"mirror\":true},\"legend\":{\"tracegroupgap\":0},\"title\":{\"text\":\"\"},\"margin\":{\"l\":5,\"r\":5,\"t\":5,\"b\":5},\"font\":{\"size\":18,\"color\":\"black\"},\"width\":600,\"height\":500,\"plot_bgcolor\":\"rgba(0, 0, 0, 0)\",\"paper_bgcolor\":\"rgba(0, 0, 0, 0)\",\"annotations\":[{\"showarrow\":false,\"text\":\"Stationing Plans\",\"x\":0.5,\"xanchor\":\"center\",\"xref\":\"paper\",\"y\":-0.15,\"yref\":\"paper\"}]},                        {\"responsive\": true}                    ).then(function(){\n",
       "                            \n",
       "var gd = document.getElementById('d81bcccd-6268-4d4b-92d4-1c7e719fe704');\n",
       "var x = new MutationObserver(function (mutations, observer) {{\n",
       "        var display = window.getComputedStyle(gd).display;\n",
       "        if (!display || display === 'none') {{\n",
       "            console.log([gd, 'removed!']);\n",
       "            Plotly.purge(gd);\n",
       "            observer.disconnect();\n",
       "        }}\n",
       "}});\n",
       "\n",
       "// Listen for the removal of the full notebook cells\n",
       "var notebookContainer = gd.closest('#notebook-container');\n",
       "if (notebookContainer) {{\n",
       "    x.observe(notebookContainer, {childList: true});\n",
       "}}\n",
       "\n",
       "// Listen for the clearing of the current output cell\n",
       "var outputEl = gd.closest('.output');\n",
       "if (outputEl) {{\n",
       "    x.observe(outputEl, {childList: true});\n",
       "}}\n",
       "\n",
       "                        })                };                });            </script>        </div>"
      ]
     },
     "metadata": {},
     "output_type": "display_data"
    }
   ],
   "source": [
    "import plotly.express as px\n",
    "\n",
    "df[\"method\"] = pd.Categorical(df[\"method\"], [\"BASELINE\", \"AGENCY\", \"SEARCH\", \"MCTS\"])\n",
    "df = df.sort_values(\"method\")\n",
    "df = df.query(\"type == 'total_served'\")\n",
    "# df.loc[1, \"method\"] = \"GARAGE\"\n",
    "# sort_dict = {\"GARAGE\": 0, \"AGENCY\": 1, \"SEARCH\": 2, \"MCTS\": 3, \"MCTS_5\": 4}\n",
    "# df = df.iloc[df[\"method\"].map(sort_dict).sort_values().index]\n",
    "display(df)\n",
    "fig = px.line(\n",
    "    df,\n",
    "    x=\"method\",\n",
    "    y=\"mean\",\n",
    "    error_y=\"std\",\n",
    "    markers=True,\n",
    "    title=\"Line Plot with Error Bars\"\n",
    "    # , facet_col=\"type\"\n",
    ")\n",
    "fig.update_traces(line={\"width\": 5})\n",
    "fig.data[0].error_y.thickness = 5\n",
    "# fig.data[1].error_y.thickness = 5\n",
    "fig.update_xaxes(showgrid=True, gridwidth=0.2, gridcolor=\"lightgrey\")\n",
    "fig.update_yaxes(showgrid=True, gridwidth=0.2, gridcolor=\"lightgrey\")\n",
    "fig.update_layout(\n",
    "    width=600,\n",
    "    height=500,\n",
    "    plot_bgcolor=\"rgba(0, 0, 0, 0)\",  # Transparent background\n",
    "    paper_bgcolor=\"rgba(0, 0, 0, 0)\",  # Transparent paper background\n",
    "    margin=dict(l=5, r=5, t=5, b=5),\n",
    "    title=\"\",\n",
    "    font=dict(\n",
    "        # family=\"Courier New, monospace\",\n",
    "        size=18,\n",
    "        color=\"black\",\n",
    "    ),\n",
    ")\n",
    "\n",
    "fig.update_xaxes(showline=True, linewidth=1, linecolor=\"black\", mirror=True)\n",
    "fig.update_yaxes(showline=True, linewidth=1, linecolor=\"black\", mirror=True)  # Change x and y-axis labels\n",
    "# fig.update_xaxes(title_text=\"Stationing and Dispatch Plan\")\n",
    "fig.update_yaxes(title_text=\"Mean passengers served<br>by substitute buses\")\n",
    "\n",
    "\n",
    "fig.for_each_annotation(lambda a: a.update(text=a.text.split(\"=\")[1]))\n",
    "\n",
    "# turn off axis titels of all axes\n",
    "fig.for_each_xaxis(lambda x: x.update({\"title\": \"\"}))\n",
    "# fig.for_each_yaxis(lambda y: y.update({'title': ''}))\n",
    "fig.add_annotation(\n",
    "    showarrow=False, xanchor=\"center\", xref=\"paper\", x=0.5, yref=\"paper\", y=-0.15, text=\"Stationing Plans\"\n",
    ")\n",
    "\n",
    "# fig.update_xaxes(categoryorder='array', categoryarray= ['GARAGE', 'AGENCY', 'SEARCH', 'MCTS', 'MCTS_5'])\n",
    "fig.write_image(\"./plots/new_served.png\", scale=3)\n",
    "fig.show()"
   ]
  },
  {
   "cell_type": "code",
   "execution_count": 82,
   "metadata": {},
   "outputs": [
    {
     "data": {
      "text/html": [
       "<div>\n",
       "<style scoped>\n",
       "    .dataframe tbody tr th:only-of-type {\n",
       "        vertical-align: middle;\n",
       "    }\n",
       "\n",
       "    .dataframe tbody tr th {\n",
       "        vertical-align: top;\n",
       "    }\n",
       "\n",
       "    .dataframe thead th {\n",
       "        text-align: right;\n",
       "    }\n",
       "</style>\n",
       "<table border=\"1\" class=\"dataframe\">\n",
       "  <thead>\n",
       "    <tr style=\"text-align: right;\">\n",
       "      <th></th>\n",
       "      <th>index</th>\n",
       "      <th>method</th>\n",
       "      <th>std</th>\n",
       "      <th>mean</th>\n",
       "      <th>type</th>\n",
       "    </tr>\n",
       "  </thead>\n",
       "  <tbody>\n",
       "    <tr>\n",
       "      <th>1</th>\n",
       "      <td>1</td>\n",
       "      <td>BASELINE</td>\n",
       "      <td>26.698496</td>\n",
       "      <td>204.841818</td>\n",
       "      <td>service_kms</td>\n",
       "    </tr>\n",
       "    <tr>\n",
       "      <th>0</th>\n",
       "      <td>0</td>\n",
       "      <td>AGENCY</td>\n",
       "      <td>26.466707</td>\n",
       "      <td>198.724545</td>\n",
       "      <td>service_kms</td>\n",
       "    </tr>\n",
       "    <tr>\n",
       "      <th>3</th>\n",
       "      <td>3</td>\n",
       "      <td>SEARCH</td>\n",
       "      <td>26.603135</td>\n",
       "      <td>195.343636</td>\n",
       "      <td>service_kms</td>\n",
       "    </tr>\n",
       "    <tr>\n",
       "      <th>2</th>\n",
       "      <td>2</td>\n",
       "      <td>MCTS</td>\n",
       "      <td>24.627822</td>\n",
       "      <td>142.323636</td>\n",
       "      <td>service_kms</td>\n",
       "    </tr>\n",
       "  </tbody>\n",
       "</table>\n",
       "</div>"
      ],
      "text/plain": [
       "   index    method        std        mean         type\n",
       "1      1  BASELINE  26.698496  204.841818  service_kms\n",
       "0      0    AGENCY  26.466707  198.724545  service_kms\n",
       "3      3    SEARCH  26.603135  195.343636  service_kms\n",
       "2      2      MCTS  24.627822  142.323636  service_kms"
      ]
     },
     "metadata": {},
     "output_type": "display_data"
    },
    {
     "data": {
      "application/vnd.plotly.v1+json": {
       "config": {
        "plotlyServerURL": "https://plot.ly"
       },
       "data": [
        {
         "error_y": {
          "array": [
           26.69849591263513,
           26.466707056587786,
           26.603134913533186,
           24.627822044034005
          ],
          "thickness": 5
         },
         "hovertemplate": "method=%{x}<br>mean=%{y}<extra></extra>",
         "legendgroup": "",
         "line": {
          "color": "#636efa",
          "dash": "solid",
          "width": 5
         },
         "marker": {
          "symbol": "circle"
         },
         "mode": "lines+markers",
         "name": "",
         "orientation": "v",
         "showlegend": false,
         "type": "scatter",
         "x": [
          "BASELINE",
          "AGENCY",
          "SEARCH",
          "MCTS"
         ],
         "xaxis": "x",
         "y": [
          204.8418181818182,
          198.72454545454545,
          195.34363636363634,
          142.32363636363635
         ],
         "yaxis": "y"
        }
       ],
       "layout": {
        "annotations": [
         {
          "showarrow": false,
          "text": "Stationing Plans",
          "x": 0.5,
          "xanchor": "center",
          "xref": "paper",
          "y": -0.15,
          "yref": "paper"
         }
        ],
        "font": {
         "color": "black",
         "size": 18
        },
        "height": 500,
        "legend": {
         "tracegroupgap": 0
        },
        "margin": {
         "b": 5,
         "l": 5,
         "r": 5,
         "t": 5
        },
        "paper_bgcolor": "rgba(0, 0, 0, 0)",
        "plot_bgcolor": "rgba(0, 0, 0, 0)",
        "template": {
         "data": {
          "bar": [
           {
            "error_x": {
             "color": "#2a3f5f"
            },
            "error_y": {
             "color": "#2a3f5f"
            },
            "marker": {
             "line": {
              "color": "#E5ECF6",
              "width": 0.5
             },
             "pattern": {
              "fillmode": "overlay",
              "size": 10,
              "solidity": 0.2
             }
            },
            "type": "bar"
           }
          ],
          "barpolar": [
           {
            "marker": {
             "line": {
              "color": "#E5ECF6",
              "width": 0.5
             },
             "pattern": {
              "fillmode": "overlay",
              "size": 10,
              "solidity": 0.2
             }
            },
            "type": "barpolar"
           }
          ],
          "carpet": [
           {
            "aaxis": {
             "endlinecolor": "#2a3f5f",
             "gridcolor": "white",
             "linecolor": "white",
             "minorgridcolor": "white",
             "startlinecolor": "#2a3f5f"
            },
            "baxis": {
             "endlinecolor": "#2a3f5f",
             "gridcolor": "white",
             "linecolor": "white",
             "minorgridcolor": "white",
             "startlinecolor": "#2a3f5f"
            },
            "type": "carpet"
           }
          ],
          "choropleth": [
           {
            "colorbar": {
             "outlinewidth": 0,
             "ticks": ""
            },
            "type": "choropleth"
           }
          ],
          "contour": [
           {
            "colorbar": {
             "outlinewidth": 0,
             "ticks": ""
            },
            "colorscale": [
             [
              0,
              "#0d0887"
             ],
             [
              0.1111111111111111,
              "#46039f"
             ],
             [
              0.2222222222222222,
              "#7201a8"
             ],
             [
              0.3333333333333333,
              "#9c179e"
             ],
             [
              0.4444444444444444,
              "#bd3786"
             ],
             [
              0.5555555555555556,
              "#d8576b"
             ],
             [
              0.6666666666666666,
              "#ed7953"
             ],
             [
              0.7777777777777778,
              "#fb9f3a"
             ],
             [
              0.8888888888888888,
              "#fdca26"
             ],
             [
              1,
              "#f0f921"
             ]
            ],
            "type": "contour"
           }
          ],
          "contourcarpet": [
           {
            "colorbar": {
             "outlinewidth": 0,
             "ticks": ""
            },
            "type": "contourcarpet"
           }
          ],
          "heatmap": [
           {
            "colorbar": {
             "outlinewidth": 0,
             "ticks": ""
            },
            "colorscale": [
             [
              0,
              "#0d0887"
             ],
             [
              0.1111111111111111,
              "#46039f"
             ],
             [
              0.2222222222222222,
              "#7201a8"
             ],
             [
              0.3333333333333333,
              "#9c179e"
             ],
             [
              0.4444444444444444,
              "#bd3786"
             ],
             [
              0.5555555555555556,
              "#d8576b"
             ],
             [
              0.6666666666666666,
              "#ed7953"
             ],
             [
              0.7777777777777778,
              "#fb9f3a"
             ],
             [
              0.8888888888888888,
              "#fdca26"
             ],
             [
              1,
              "#f0f921"
             ]
            ],
            "type": "heatmap"
           }
          ],
          "heatmapgl": [
           {
            "colorbar": {
             "outlinewidth": 0,
             "ticks": ""
            },
            "colorscale": [
             [
              0,
              "#0d0887"
             ],
             [
              0.1111111111111111,
              "#46039f"
             ],
             [
              0.2222222222222222,
              "#7201a8"
             ],
             [
              0.3333333333333333,
              "#9c179e"
             ],
             [
              0.4444444444444444,
              "#bd3786"
             ],
             [
              0.5555555555555556,
              "#d8576b"
             ],
             [
              0.6666666666666666,
              "#ed7953"
             ],
             [
              0.7777777777777778,
              "#fb9f3a"
             ],
             [
              0.8888888888888888,
              "#fdca26"
             ],
             [
              1,
              "#f0f921"
             ]
            ],
            "type": "heatmapgl"
           }
          ],
          "histogram": [
           {
            "marker": {
             "pattern": {
              "fillmode": "overlay",
              "size": 10,
              "solidity": 0.2
             }
            },
            "type": "histogram"
           }
          ],
          "histogram2d": [
           {
            "colorbar": {
             "outlinewidth": 0,
             "ticks": ""
            },
            "colorscale": [
             [
              0,
              "#0d0887"
             ],
             [
              0.1111111111111111,
              "#46039f"
             ],
             [
              0.2222222222222222,
              "#7201a8"
             ],
             [
              0.3333333333333333,
              "#9c179e"
             ],
             [
              0.4444444444444444,
              "#bd3786"
             ],
             [
              0.5555555555555556,
              "#d8576b"
             ],
             [
              0.6666666666666666,
              "#ed7953"
             ],
             [
              0.7777777777777778,
              "#fb9f3a"
             ],
             [
              0.8888888888888888,
              "#fdca26"
             ],
             [
              1,
              "#f0f921"
             ]
            ],
            "type": "histogram2d"
           }
          ],
          "histogram2dcontour": [
           {
            "colorbar": {
             "outlinewidth": 0,
             "ticks": ""
            },
            "colorscale": [
             [
              0,
              "#0d0887"
             ],
             [
              0.1111111111111111,
              "#46039f"
             ],
             [
              0.2222222222222222,
              "#7201a8"
             ],
             [
              0.3333333333333333,
              "#9c179e"
             ],
             [
              0.4444444444444444,
              "#bd3786"
             ],
             [
              0.5555555555555556,
              "#d8576b"
             ],
             [
              0.6666666666666666,
              "#ed7953"
             ],
             [
              0.7777777777777778,
              "#fb9f3a"
             ],
             [
              0.8888888888888888,
              "#fdca26"
             ],
             [
              1,
              "#f0f921"
             ]
            ],
            "type": "histogram2dcontour"
           }
          ],
          "mesh3d": [
           {
            "colorbar": {
             "outlinewidth": 0,
             "ticks": ""
            },
            "type": "mesh3d"
           }
          ],
          "parcoords": [
           {
            "line": {
             "colorbar": {
              "outlinewidth": 0,
              "ticks": ""
             }
            },
            "type": "parcoords"
           }
          ],
          "pie": [
           {
            "automargin": true,
            "type": "pie"
           }
          ],
          "scatter": [
           {
            "fillpattern": {
             "fillmode": "overlay",
             "size": 10,
             "solidity": 0.2
            },
            "type": "scatter"
           }
          ],
          "scatter3d": [
           {
            "line": {
             "colorbar": {
              "outlinewidth": 0,
              "ticks": ""
             }
            },
            "marker": {
             "colorbar": {
              "outlinewidth": 0,
              "ticks": ""
             }
            },
            "type": "scatter3d"
           }
          ],
          "scattercarpet": [
           {
            "marker": {
             "colorbar": {
              "outlinewidth": 0,
              "ticks": ""
             }
            },
            "type": "scattercarpet"
           }
          ],
          "scattergeo": [
           {
            "marker": {
             "colorbar": {
              "outlinewidth": 0,
              "ticks": ""
             }
            },
            "type": "scattergeo"
           }
          ],
          "scattergl": [
           {
            "marker": {
             "colorbar": {
              "outlinewidth": 0,
              "ticks": ""
             }
            },
            "type": "scattergl"
           }
          ],
          "scattermapbox": [
           {
            "marker": {
             "colorbar": {
              "outlinewidth": 0,
              "ticks": ""
             }
            },
            "type": "scattermapbox"
           }
          ],
          "scatterpolar": [
           {
            "marker": {
             "colorbar": {
              "outlinewidth": 0,
              "ticks": ""
             }
            },
            "type": "scatterpolar"
           }
          ],
          "scatterpolargl": [
           {
            "marker": {
             "colorbar": {
              "outlinewidth": 0,
              "ticks": ""
             }
            },
            "type": "scatterpolargl"
           }
          ],
          "scatterternary": [
           {
            "marker": {
             "colorbar": {
              "outlinewidth": 0,
              "ticks": ""
             }
            },
            "type": "scatterternary"
           }
          ],
          "surface": [
           {
            "colorbar": {
             "outlinewidth": 0,
             "ticks": ""
            },
            "colorscale": [
             [
              0,
              "#0d0887"
             ],
             [
              0.1111111111111111,
              "#46039f"
             ],
             [
              0.2222222222222222,
              "#7201a8"
             ],
             [
              0.3333333333333333,
              "#9c179e"
             ],
             [
              0.4444444444444444,
              "#bd3786"
             ],
             [
              0.5555555555555556,
              "#d8576b"
             ],
             [
              0.6666666666666666,
              "#ed7953"
             ],
             [
              0.7777777777777778,
              "#fb9f3a"
             ],
             [
              0.8888888888888888,
              "#fdca26"
             ],
             [
              1,
              "#f0f921"
             ]
            ],
            "type": "surface"
           }
          ],
          "table": [
           {
            "cells": {
             "fill": {
              "color": "#EBF0F8"
             },
             "line": {
              "color": "white"
             }
            },
            "header": {
             "fill": {
              "color": "#C8D4E3"
             },
             "line": {
              "color": "white"
             }
            },
            "type": "table"
           }
          ]
         },
         "layout": {
          "annotationdefaults": {
           "arrowcolor": "#2a3f5f",
           "arrowhead": 0,
           "arrowwidth": 1
          },
          "autotypenumbers": "strict",
          "coloraxis": {
           "colorbar": {
            "outlinewidth": 0,
            "ticks": ""
           }
          },
          "colorscale": {
           "diverging": [
            [
             0,
             "#8e0152"
            ],
            [
             0.1,
             "#c51b7d"
            ],
            [
             0.2,
             "#de77ae"
            ],
            [
             0.3,
             "#f1b6da"
            ],
            [
             0.4,
             "#fde0ef"
            ],
            [
             0.5,
             "#f7f7f7"
            ],
            [
             0.6,
             "#e6f5d0"
            ],
            [
             0.7,
             "#b8e186"
            ],
            [
             0.8,
             "#7fbc41"
            ],
            [
             0.9,
             "#4d9221"
            ],
            [
             1,
             "#276419"
            ]
           ],
           "sequential": [
            [
             0,
             "#0d0887"
            ],
            [
             0.1111111111111111,
             "#46039f"
            ],
            [
             0.2222222222222222,
             "#7201a8"
            ],
            [
             0.3333333333333333,
             "#9c179e"
            ],
            [
             0.4444444444444444,
             "#bd3786"
            ],
            [
             0.5555555555555556,
             "#d8576b"
            ],
            [
             0.6666666666666666,
             "#ed7953"
            ],
            [
             0.7777777777777778,
             "#fb9f3a"
            ],
            [
             0.8888888888888888,
             "#fdca26"
            ],
            [
             1,
             "#f0f921"
            ]
           ],
           "sequentialminus": [
            [
             0,
             "#0d0887"
            ],
            [
             0.1111111111111111,
             "#46039f"
            ],
            [
             0.2222222222222222,
             "#7201a8"
            ],
            [
             0.3333333333333333,
             "#9c179e"
            ],
            [
             0.4444444444444444,
             "#bd3786"
            ],
            [
             0.5555555555555556,
             "#d8576b"
            ],
            [
             0.6666666666666666,
             "#ed7953"
            ],
            [
             0.7777777777777778,
             "#fb9f3a"
            ],
            [
             0.8888888888888888,
             "#fdca26"
            ],
            [
             1,
             "#f0f921"
            ]
           ]
          },
          "colorway": [
           "#636efa",
           "#EF553B",
           "#00cc96",
           "#ab63fa",
           "#FFA15A",
           "#19d3f3",
           "#FF6692",
           "#B6E880",
           "#FF97FF",
           "#FECB52"
          ],
          "font": {
           "color": "#2a3f5f"
          },
          "geo": {
           "bgcolor": "white",
           "lakecolor": "white",
           "landcolor": "#E5ECF6",
           "showlakes": true,
           "showland": true,
           "subunitcolor": "white"
          },
          "hoverlabel": {
           "align": "left"
          },
          "hovermode": "closest",
          "mapbox": {
           "style": "light"
          },
          "paper_bgcolor": "white",
          "plot_bgcolor": "#E5ECF6",
          "polar": {
           "angularaxis": {
            "gridcolor": "white",
            "linecolor": "white",
            "ticks": ""
           },
           "bgcolor": "#E5ECF6",
           "radialaxis": {
            "gridcolor": "white",
            "linecolor": "white",
            "ticks": ""
           }
          },
          "scene": {
           "xaxis": {
            "backgroundcolor": "#E5ECF6",
            "gridcolor": "white",
            "gridwidth": 2,
            "linecolor": "white",
            "showbackground": true,
            "ticks": "",
            "zerolinecolor": "white"
           },
           "yaxis": {
            "backgroundcolor": "#E5ECF6",
            "gridcolor": "white",
            "gridwidth": 2,
            "linecolor": "white",
            "showbackground": true,
            "ticks": "",
            "zerolinecolor": "white"
           },
           "zaxis": {
            "backgroundcolor": "#E5ECF6",
            "gridcolor": "white",
            "gridwidth": 2,
            "linecolor": "white",
            "showbackground": true,
            "ticks": "",
            "zerolinecolor": "white"
           }
          },
          "shapedefaults": {
           "line": {
            "color": "#2a3f5f"
           }
          },
          "ternary": {
           "aaxis": {
            "gridcolor": "white",
            "linecolor": "white",
            "ticks": ""
           },
           "baxis": {
            "gridcolor": "white",
            "linecolor": "white",
            "ticks": ""
           },
           "bgcolor": "#E5ECF6",
           "caxis": {
            "gridcolor": "white",
            "linecolor": "white",
            "ticks": ""
           }
          },
          "title": {
           "x": 0.05
          },
          "xaxis": {
           "automargin": true,
           "gridcolor": "white",
           "linecolor": "white",
           "ticks": "",
           "title": {
            "standoff": 15
           },
           "zerolinecolor": "white",
           "zerolinewidth": 2
          },
          "yaxis": {
           "automargin": true,
           "gridcolor": "white",
           "linecolor": "white",
           "ticks": "",
           "title": {
            "standoff": 15
           },
           "zerolinecolor": "white",
           "zerolinewidth": 2
          }
         }
        },
        "title": {
         "text": ""
        },
        "width": 600,
        "xaxis": {
         "anchor": "y",
         "domain": [
          0,
          1
         ],
         "gridcolor": "lightgrey",
         "gridwidth": 0.2,
         "linecolor": "black",
         "linewidth": 1,
         "mirror": true,
         "showgrid": true,
         "showline": true,
         "title": {
          "text": ""
         }
        },
        "yaxis": {
         "anchor": "x",
         "domain": [
          0,
          1
         ],
         "gridcolor": "lightgrey",
         "gridwidth": 0.2,
         "linecolor": "black",
         "linewidth": 1,
         "mirror": true,
         "showgrid": true,
         "showline": true,
         "title": {
          "text": "Mean total deadhead miles<br>for all substitute buses"
         }
        }
       }
      },
      "text/html": [
       "<div>                            <div id=\"67f5941d-00b8-4dfd-bfb4-83019c2a3344\" class=\"plotly-graph-div\" style=\"height:500px; width:600px;\"></div>            <script type=\"text/javascript\">                require([\"plotly\"], function(Plotly) {                    window.PLOTLYENV=window.PLOTLYENV || {};                                    if (document.getElementById(\"67f5941d-00b8-4dfd-bfb4-83019c2a3344\")) {                    Plotly.newPlot(                        \"67f5941d-00b8-4dfd-bfb4-83019c2a3344\",                        [{\"error_y\":{\"array\":[26.69849591263513,26.466707056587786,26.603134913533186,24.627822044034005],\"thickness\":5},\"hovertemplate\":\"method=%{x}\\u003cbr\\u003emean=%{y}\\u003cextra\\u003e\\u003c\\u002fextra\\u003e\",\"legendgroup\":\"\",\"line\":{\"color\":\"#636efa\",\"dash\":\"solid\",\"width\":5},\"marker\":{\"symbol\":\"circle\"},\"mode\":\"lines+markers\",\"name\":\"\",\"orientation\":\"v\",\"showlegend\":false,\"x\":[\"BASELINE\",\"AGENCY\",\"SEARCH\",\"MCTS\"],\"xaxis\":\"x\",\"y\":[204.8418181818182,198.72454545454545,195.34363636363634,142.32363636363635],\"yaxis\":\"y\",\"type\":\"scatter\"}],                        {\"template\":{\"data\":{\"histogram2dcontour\":[{\"type\":\"histogram2dcontour\",\"colorbar\":{\"outlinewidth\":0,\"ticks\":\"\"},\"colorscale\":[[0.0,\"#0d0887\"],[0.1111111111111111,\"#46039f\"],[0.2222222222222222,\"#7201a8\"],[0.3333333333333333,\"#9c179e\"],[0.4444444444444444,\"#bd3786\"],[0.5555555555555556,\"#d8576b\"],[0.6666666666666666,\"#ed7953\"],[0.7777777777777778,\"#fb9f3a\"],[0.8888888888888888,\"#fdca26\"],[1.0,\"#f0f921\"]]}],\"choropleth\":[{\"type\":\"choropleth\",\"colorbar\":{\"outlinewidth\":0,\"ticks\":\"\"}}],\"histogram2d\":[{\"type\":\"histogram2d\",\"colorbar\":{\"outlinewidth\":0,\"ticks\":\"\"},\"colorscale\":[[0.0,\"#0d0887\"],[0.1111111111111111,\"#46039f\"],[0.2222222222222222,\"#7201a8\"],[0.3333333333333333,\"#9c179e\"],[0.4444444444444444,\"#bd3786\"],[0.5555555555555556,\"#d8576b\"],[0.6666666666666666,\"#ed7953\"],[0.7777777777777778,\"#fb9f3a\"],[0.8888888888888888,\"#fdca26\"],[1.0,\"#f0f921\"]]}],\"heatmap\":[{\"type\":\"heatmap\",\"colorbar\":{\"outlinewidth\":0,\"ticks\":\"\"},\"colorscale\":[[0.0,\"#0d0887\"],[0.1111111111111111,\"#46039f\"],[0.2222222222222222,\"#7201a8\"],[0.3333333333333333,\"#9c179e\"],[0.4444444444444444,\"#bd3786\"],[0.5555555555555556,\"#d8576b\"],[0.6666666666666666,\"#ed7953\"],[0.7777777777777778,\"#fb9f3a\"],[0.8888888888888888,\"#fdca26\"],[1.0,\"#f0f921\"]]}],\"heatmapgl\":[{\"type\":\"heatmapgl\",\"colorbar\":{\"outlinewidth\":0,\"ticks\":\"\"},\"colorscale\":[[0.0,\"#0d0887\"],[0.1111111111111111,\"#46039f\"],[0.2222222222222222,\"#7201a8\"],[0.3333333333333333,\"#9c179e\"],[0.4444444444444444,\"#bd3786\"],[0.5555555555555556,\"#d8576b\"],[0.6666666666666666,\"#ed7953\"],[0.7777777777777778,\"#fb9f3a\"],[0.8888888888888888,\"#fdca26\"],[1.0,\"#f0f921\"]]}],\"contourcarpet\":[{\"type\":\"contourcarpet\",\"colorbar\":{\"outlinewidth\":0,\"ticks\":\"\"}}],\"contour\":[{\"type\":\"contour\",\"colorbar\":{\"outlinewidth\":0,\"ticks\":\"\"},\"colorscale\":[[0.0,\"#0d0887\"],[0.1111111111111111,\"#46039f\"],[0.2222222222222222,\"#7201a8\"],[0.3333333333333333,\"#9c179e\"],[0.4444444444444444,\"#bd3786\"],[0.5555555555555556,\"#d8576b\"],[0.6666666666666666,\"#ed7953\"],[0.7777777777777778,\"#fb9f3a\"],[0.8888888888888888,\"#fdca26\"],[1.0,\"#f0f921\"]]}],\"surface\":[{\"type\":\"surface\",\"colorbar\":{\"outlinewidth\":0,\"ticks\":\"\"},\"colorscale\":[[0.0,\"#0d0887\"],[0.1111111111111111,\"#46039f\"],[0.2222222222222222,\"#7201a8\"],[0.3333333333333333,\"#9c179e\"],[0.4444444444444444,\"#bd3786\"],[0.5555555555555556,\"#d8576b\"],[0.6666666666666666,\"#ed7953\"],[0.7777777777777778,\"#fb9f3a\"],[0.8888888888888888,\"#fdca26\"],[1.0,\"#f0f921\"]]}],\"mesh3d\":[{\"type\":\"mesh3d\",\"colorbar\":{\"outlinewidth\":0,\"ticks\":\"\"}}],\"scatter\":[{\"fillpattern\":{\"fillmode\":\"overlay\",\"size\":10,\"solidity\":0.2},\"type\":\"scatter\"}],\"parcoords\":[{\"type\":\"parcoords\",\"line\":{\"colorbar\":{\"outlinewidth\":0,\"ticks\":\"\"}}}],\"scatterpolargl\":[{\"type\":\"scatterpolargl\",\"marker\":{\"colorbar\":{\"outlinewidth\":0,\"ticks\":\"\"}}}],\"bar\":[{\"error_x\":{\"color\":\"#2a3f5f\"},\"error_y\":{\"color\":\"#2a3f5f\"},\"marker\":{\"line\":{\"color\":\"#E5ECF6\",\"width\":0.5},\"pattern\":{\"fillmode\":\"overlay\",\"size\":10,\"solidity\":0.2}},\"type\":\"bar\"}],\"scattergeo\":[{\"type\":\"scattergeo\",\"marker\":{\"colorbar\":{\"outlinewidth\":0,\"ticks\":\"\"}}}],\"scatterpolar\":[{\"type\":\"scatterpolar\",\"marker\":{\"colorbar\":{\"outlinewidth\":0,\"ticks\":\"\"}}}],\"histogram\":[{\"marker\":{\"pattern\":{\"fillmode\":\"overlay\",\"size\":10,\"solidity\":0.2}},\"type\":\"histogram\"}],\"scattergl\":[{\"type\":\"scattergl\",\"marker\":{\"colorbar\":{\"outlinewidth\":0,\"ticks\":\"\"}}}],\"scatter3d\":[{\"type\":\"scatter3d\",\"line\":{\"colorbar\":{\"outlinewidth\":0,\"ticks\":\"\"}},\"marker\":{\"colorbar\":{\"outlinewidth\":0,\"ticks\":\"\"}}}],\"scattermapbox\":[{\"type\":\"scattermapbox\",\"marker\":{\"colorbar\":{\"outlinewidth\":0,\"ticks\":\"\"}}}],\"scatterternary\":[{\"type\":\"scatterternary\",\"marker\":{\"colorbar\":{\"outlinewidth\":0,\"ticks\":\"\"}}}],\"scattercarpet\":[{\"type\":\"scattercarpet\",\"marker\":{\"colorbar\":{\"outlinewidth\":0,\"ticks\":\"\"}}}],\"carpet\":[{\"aaxis\":{\"endlinecolor\":\"#2a3f5f\",\"gridcolor\":\"white\",\"linecolor\":\"white\",\"minorgridcolor\":\"white\",\"startlinecolor\":\"#2a3f5f\"},\"baxis\":{\"endlinecolor\":\"#2a3f5f\",\"gridcolor\":\"white\",\"linecolor\":\"white\",\"minorgridcolor\":\"white\",\"startlinecolor\":\"#2a3f5f\"},\"type\":\"carpet\"}],\"table\":[{\"cells\":{\"fill\":{\"color\":\"#EBF0F8\"},\"line\":{\"color\":\"white\"}},\"header\":{\"fill\":{\"color\":\"#C8D4E3\"},\"line\":{\"color\":\"white\"}},\"type\":\"table\"}],\"barpolar\":[{\"marker\":{\"line\":{\"color\":\"#E5ECF6\",\"width\":0.5},\"pattern\":{\"fillmode\":\"overlay\",\"size\":10,\"solidity\":0.2}},\"type\":\"barpolar\"}],\"pie\":[{\"automargin\":true,\"type\":\"pie\"}]},\"layout\":{\"autotypenumbers\":\"strict\",\"colorway\":[\"#636efa\",\"#EF553B\",\"#00cc96\",\"#ab63fa\",\"#FFA15A\",\"#19d3f3\",\"#FF6692\",\"#B6E880\",\"#FF97FF\",\"#FECB52\"],\"font\":{\"color\":\"#2a3f5f\"},\"hovermode\":\"closest\",\"hoverlabel\":{\"align\":\"left\"},\"paper_bgcolor\":\"white\",\"plot_bgcolor\":\"#E5ECF6\",\"polar\":{\"bgcolor\":\"#E5ECF6\",\"angularaxis\":{\"gridcolor\":\"white\",\"linecolor\":\"white\",\"ticks\":\"\"},\"radialaxis\":{\"gridcolor\":\"white\",\"linecolor\":\"white\",\"ticks\":\"\"}},\"ternary\":{\"bgcolor\":\"#E5ECF6\",\"aaxis\":{\"gridcolor\":\"white\",\"linecolor\":\"white\",\"ticks\":\"\"},\"baxis\":{\"gridcolor\":\"white\",\"linecolor\":\"white\",\"ticks\":\"\"},\"caxis\":{\"gridcolor\":\"white\",\"linecolor\":\"white\",\"ticks\":\"\"}},\"coloraxis\":{\"colorbar\":{\"outlinewidth\":0,\"ticks\":\"\"}},\"colorscale\":{\"sequential\":[[0.0,\"#0d0887\"],[0.1111111111111111,\"#46039f\"],[0.2222222222222222,\"#7201a8\"],[0.3333333333333333,\"#9c179e\"],[0.4444444444444444,\"#bd3786\"],[0.5555555555555556,\"#d8576b\"],[0.6666666666666666,\"#ed7953\"],[0.7777777777777778,\"#fb9f3a\"],[0.8888888888888888,\"#fdca26\"],[1.0,\"#f0f921\"]],\"sequentialminus\":[[0.0,\"#0d0887\"],[0.1111111111111111,\"#46039f\"],[0.2222222222222222,\"#7201a8\"],[0.3333333333333333,\"#9c179e\"],[0.4444444444444444,\"#bd3786\"],[0.5555555555555556,\"#d8576b\"],[0.6666666666666666,\"#ed7953\"],[0.7777777777777778,\"#fb9f3a\"],[0.8888888888888888,\"#fdca26\"],[1.0,\"#f0f921\"]],\"diverging\":[[0,\"#8e0152\"],[0.1,\"#c51b7d\"],[0.2,\"#de77ae\"],[0.3,\"#f1b6da\"],[0.4,\"#fde0ef\"],[0.5,\"#f7f7f7\"],[0.6,\"#e6f5d0\"],[0.7,\"#b8e186\"],[0.8,\"#7fbc41\"],[0.9,\"#4d9221\"],[1,\"#276419\"]]},\"xaxis\":{\"gridcolor\":\"white\",\"linecolor\":\"white\",\"ticks\":\"\",\"title\":{\"standoff\":15},\"zerolinecolor\":\"white\",\"automargin\":true,\"zerolinewidth\":2},\"yaxis\":{\"gridcolor\":\"white\",\"linecolor\":\"white\",\"ticks\":\"\",\"title\":{\"standoff\":15},\"zerolinecolor\":\"white\",\"automargin\":true,\"zerolinewidth\":2},\"scene\":{\"xaxis\":{\"backgroundcolor\":\"#E5ECF6\",\"gridcolor\":\"white\",\"linecolor\":\"white\",\"showbackground\":true,\"ticks\":\"\",\"zerolinecolor\":\"white\",\"gridwidth\":2},\"yaxis\":{\"backgroundcolor\":\"#E5ECF6\",\"gridcolor\":\"white\",\"linecolor\":\"white\",\"showbackground\":true,\"ticks\":\"\",\"zerolinecolor\":\"white\",\"gridwidth\":2},\"zaxis\":{\"backgroundcolor\":\"#E5ECF6\",\"gridcolor\":\"white\",\"linecolor\":\"white\",\"showbackground\":true,\"ticks\":\"\",\"zerolinecolor\":\"white\",\"gridwidth\":2}},\"shapedefaults\":{\"line\":{\"color\":\"#2a3f5f\"}},\"annotationdefaults\":{\"arrowcolor\":\"#2a3f5f\",\"arrowhead\":0,\"arrowwidth\":1},\"geo\":{\"bgcolor\":\"white\",\"landcolor\":\"#E5ECF6\",\"subunitcolor\":\"white\",\"showland\":true,\"showlakes\":true,\"lakecolor\":\"white\"},\"title\":{\"x\":0.05},\"mapbox\":{\"style\":\"light\"}}},\"xaxis\":{\"anchor\":\"y\",\"domain\":[0.0,1.0],\"title\":{\"text\":\"\"},\"showgrid\":true,\"gridwidth\":0.2,\"gridcolor\":\"lightgrey\",\"showline\":true,\"linewidth\":1,\"linecolor\":\"black\",\"mirror\":true},\"yaxis\":{\"anchor\":\"x\",\"domain\":[0.0,1.0],\"title\":{\"text\":\"Mean total deadhead miles\\u003cbr\\u003efor all substitute buses\"},\"showgrid\":true,\"gridwidth\":0.2,\"gridcolor\":\"lightgrey\",\"showline\":true,\"linewidth\":1,\"linecolor\":\"black\",\"mirror\":true},\"legend\":{\"tracegroupgap\":0},\"title\":{\"text\":\"\"},\"margin\":{\"l\":5,\"r\":5,\"t\":5,\"b\":5},\"font\":{\"size\":18,\"color\":\"black\"},\"width\":600,\"height\":500,\"plot_bgcolor\":\"rgba(0, 0, 0, 0)\",\"paper_bgcolor\":\"rgba(0, 0, 0, 0)\",\"annotations\":[{\"showarrow\":false,\"text\":\"Stationing Plans\",\"x\":0.5,\"xanchor\":\"center\",\"xref\":\"paper\",\"y\":-0.15,\"yref\":\"paper\"}]},                        {\"responsive\": true}                    ).then(function(){\n",
       "                            \n",
       "var gd = document.getElementById('67f5941d-00b8-4dfd-bfb4-83019c2a3344');\n",
       "var x = new MutationObserver(function (mutations, observer) {{\n",
       "        var display = window.getComputedStyle(gd).display;\n",
       "        if (!display || display === 'none') {{\n",
       "            console.log([gd, 'removed!']);\n",
       "            Plotly.purge(gd);\n",
       "            observer.disconnect();\n",
       "        }}\n",
       "}});\n",
       "\n",
       "// Listen for the removal of the full notebook cells\n",
       "var notebookContainer = gd.closest('#notebook-container');\n",
       "if (notebookContainer) {{\n",
       "    x.observe(notebookContainer, {childList: true});\n",
       "}}\n",
       "\n",
       "// Listen for the clearing of the current output cell\n",
       "var outputEl = gd.closest('.output');\n",
       "if (outputEl) {{\n",
       "    x.observe(outputEl, {childList: true});\n",
       "}}\n",
       "\n",
       "                        })                };                });            </script>        </div>"
      ]
     },
     "metadata": {},
     "output_type": "display_data"
    }
   ],
   "source": [
    "import plotly.express as px\n",
    "\n",
    "df = pd.read_csv(\"/home/jpt/git/mta_simulator_redo/data_analysis/results/total_ons.csv\", index_col=0)\n",
    "df = df.reset_index()\n",
    "df = df.groupby(\"method\").agg({\"total_served\": list}).reset_index()\n",
    "df[\"std\"] = df[\"total_served\"].apply(lambda x: np.std(x))\n",
    "df[\"std\"] = df[\"std\"] / np.sqrt(len(MCTS_DATES))\n",
    "df[\"mean\"] = df[\"total_served\"].apply(lambda x: np.mean(x))\n",
    "df = df.reset_index()\n",
    "df = df.drop(\"total_served\", axis=1)\n",
    "b = df[df[\"method\"].isin([\"AGENCY\", \"BASELINE\", \"SEARCH\", \"MCTS\"])]\n",
    "b[\"type\"] = \"total_served\"\n",
    "df = pd.concat([b, a])\n",
    "df[\"method\"] = pd.Categorical(df[\"method\"], [\"BASELINE\", \"AGENCY\", \"SEARCH\", \"MCTS\"])\n",
    "df = df.sort_values(\"method\")\n",
    "df = df.query(\"type == 'service_kms'\")\n",
    "# df.loc[1, \"method\"] = \"GARAGE\"\n",
    "# sort_dict = {\"GARAGE\": 0, \"AGENCY\": 1, \"SEARCH\": 2, \"MCTS\": 3, \"MCTS_5\": 4}\n",
    "# df = df.iloc[df[\"method\"].map(sort_dict).sort_values().index]\n",
    "display(df)\n",
    "fig = px.line(\n",
    "    df,\n",
    "    x=\"method\",\n",
    "    y=\"mean\",\n",
    "    error_y=\"std\",\n",
    "    markers=True,\n",
    "    title=\"Line Plot with Error Bars\"\n",
    "    # , facet_col=\"type\"\n",
    ")\n",
    "fig.update_traces(line={\"width\": 5})\n",
    "fig.data[0].error_y.thickness = 5\n",
    "# fig.data[1].error_y.thickness = 5\n",
    "fig.update_xaxes(showgrid=True, gridwidth=0.2, gridcolor=\"lightgrey\")\n",
    "fig.update_yaxes(showgrid=True, gridwidth=0.2, gridcolor=\"lightgrey\")\n",
    "fig.update_layout(\n",
    "    width=600,\n",
    "    height=500,\n",
    "    plot_bgcolor=\"rgba(0, 0, 0, 0)\",  # Transparent background\n",
    "    paper_bgcolor=\"rgba(0, 0, 0, 0)\",  # Transparent paper background\n",
    "    margin=dict(l=5, r=5, t=5, b=5),\n",
    "    title=\"\",\n",
    "    font=dict(\n",
    "        # family=\"Courier New, monospace\",\n",
    "        size=18,\n",
    "        color=\"black\",\n",
    "    ),\n",
    ")\n",
    "\n",
    "fig.update_xaxes(showline=True, linewidth=1, linecolor=\"black\", mirror=True)\n",
    "fig.update_yaxes(showline=True, linewidth=1, linecolor=\"black\", mirror=True)  # Change x and y-axis labels\n",
    "# fig.update_xaxes(title_text=\"Stationing and Dispatch Plan\")\n",
    "fig.update_yaxes(title_text=\"Mean total deadhead miles<br>for all substitute buses\")\n",
    "\n",
    "\n",
    "fig.for_each_annotation(lambda a: a.update(text=a.text.split(\"=\")[1]))\n",
    "\n",
    "# turn off axis titels of all axes\n",
    "fig.for_each_xaxis(lambda x: x.update({\"title\": \"\"}))\n",
    "# fig.for_each_yaxis(lambda y: y.update({'title': ''}))\n",
    "fig.add_annotation(\n",
    "    showarrow=False, xanchor=\"center\", xref=\"paper\", x=0.5, yref=\"paper\", y=-0.15, text=\"Stationing Plans\"\n",
    ")\n",
    "\n",
    "# fig.update_xaxes(categoryorder='array', categoryarray= ['GARAGE', 'AGENCY', 'SEARCH', 'MCTS', 'MCTS_5'])\n",
    "fig.write_image(\"./plots/new_deadhead.png\", scale=3)\n",
    "\n",
    "fig.show()"
   ]
  },
  {
   "cell_type": "code",
   "execution_count": 223,
   "metadata": {},
   "outputs": [
    {
     "data": {
      "text/plain": [
       "12722.0"
      ]
     },
     "execution_count": 223,
     "metadata": {},
     "output_type": "execute_result"
    }
   ],
   "source": [
    "df = pd.read_parquet(\n",
    "    \"/home/jpt/git/mta_simulator_redo/code_root/scenarios/TEST_WORLD/20200307_noise_1/sampled_ons_offs_dict_20200307.parquet\"\n",
    ")\n",
    "df.offs.sum()"
   ]
  },
  {
   "cell_type": "code",
   "execution_count": 224,
   "metadata": {},
   "outputs": [
    {
     "data": {
      "text/plain": [
       "12614.0"
      ]
     },
     "execution_count": 224,
     "metadata": {},
     "output_type": "execute_result"
    }
   ],
   "source": [
    "df = pd.read_parquet(\n",
    "    \"/home/jpt/git/mta_simulator_redo/code_root/scenarios/TEST_WORLD/20200307_noise_1/chains/ons_offs_dict_chain_20200307_2.parquet\"\n",
    ")\n",
    "df.offs.sum()"
   ]
  },
  {
   "cell_type": "code",
   "execution_count": 225,
   "metadata": {},
   "outputs": [
    {
     "data": {
      "text/plain": [
       "16050.0"
      ]
     },
     "execution_count": 225,
     "metadata": {},
     "output_type": "execute_result"
    }
   ],
   "source": [
    "df = pd.read_parquet(\n",
    "    \"/home/jpt/git/mta_simulator_redo/code_root/scenarios/TEST_WORLD/20200307_noise_10/sampled_ons_offs_dict_20200307.parquet\"\n",
    ")\n",
    "df.offs.sum()"
   ]
  },
  {
   "cell_type": "code",
   "execution_count": null,
   "metadata": {},
   "outputs": [],
   "source": []
  },
  {
   "cell_type": "code",
   "execution_count": null,
   "metadata": {},
   "outputs": [],
   "source": []
  }
 ],
 "metadata": {
  "kernelspec": {
   "display_name": "venv",
   "language": "python",
   "name": "python3"
  },
  "language_info": {
   "codemirror_mode": {
    "name": "ipython",
    "version": 3
   },
   "file_extension": ".py",
   "mimetype": "text/x-python",
   "name": "python",
   "nbconvert_exporter": "python",
   "pygments_lexer": "ipython3",
   "version": "3.11.2"
  }
 },
 "nbformat": 4,
 "nbformat_minor": 2
}
